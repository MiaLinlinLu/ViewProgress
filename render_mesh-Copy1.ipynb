{
 "cells": [
  {
   "cell_type": "markdown",
   "id": "b100473e",
   "metadata": {},
   "source": [
    "## Get hausdorff distance for models1, models2"
   ]
  },
  {
   "cell_type": "code",
   "execution_count": 72,
   "id": "68300604",
   "metadata": {},
   "outputs": [],
   "source": [
    "import os\n",
    "import colorcet as cc\n",
    "from colour import Color\n",
    "\n",
    "from matplotlib.colors import ListedColormap\n",
    "import matplotlib.pyplot as plt\n",
    "import matplotlib as mpl\n",
    "\n",
    "import numpy as np\n",
    "\n",
    "import pymeshlab as ml\n",
    "\n",
    "import pyvista as pv\n",
    "from pyvista import examples\n",
    "\n",
    "\n",
    "from collections import defaultdict\n",
    "\n",
    "from colorspacious import cspace_converter"
   ]
  },
  {
   "cell_type": "code",
   "execution_count": 74,
   "id": "4969862e",
   "metadata": {
    "scrolled": false
   },
   "outputs": [],
   "source": [
    "pv.global_theme.transparent_background = True\n",
    "\n",
    "pre = './201818/'\n",
    "\n",
    "#---------convert files to .stl-----------------\n",
    "# tmp = os.listdir()\n",
    "\n",
    "# import meshio\n",
    "\n",
    "# fnames = ['pialnn/pp.obj','pialnn/tp.obj','vox2cortex/pp.ply','vox2cortex/pw.ply','vox2cortex/tp.ply','vox2cortex/tw.ply']\n",
    "# for fname in fnames:\n",
    "#     mesh = meshio.read(pre+fname)\n",
    "#     meshio.write(pre+fname[:-4]+'.stl', mesh, file_format=\"stl\")\n",
    "\n",
    "models1 = ['cortexode','corticalflow','deepcsr','pialnn','vox2cortex']\n",
    "models2 = ['cortexode','corticalflow','deepcsr','topofit','vox2cortex']\n",
    "fs = ['tp.stl', 'pp.stl', 'tw.stl', 'pw.stl']\n",
    "file_truths1 = [pre+'./'+m+'/'+fs[0] for m in models1]\n",
    "files1 = [pre+'./'+m+'/'+fs[1] for m in models1]\n",
    "\n",
    "file_truths2 = [pre+'./'+m+'/'+fs[2] for m in models2]\n",
    "files2 = [pre+'./'+m+'/'+fs[3] for m in models2]\n",
    "\n",
    "def calc_distance():\n",
    "    ms = ml.MeshSet()\n",
    "    ms.load_new_mesh(file_truth)\n",
    "    ms.load_new_mesh(file)\n",
    "    ms.compute_scalar_by_distance_from_another_mesh_per_vertex()\n",
    "    ms.compute_color_from_scalar_per_vertex()\n",
    "    return ms\n",
    "\n",
    "def calc_hausdorff_distance(file_truth, file):\n",
    "    ms = ml.MeshSet()\n",
    "    ms.load_new_mesh(file_truth)\n",
    "    ms.load_new_mesh(file)\n",
    "    d = ms.get_hausdorff_distance()\n",
    "    return d \n",
    "\n",
    "def get_hdd(files,file_truths):\n",
    "    tmps = []\n",
    "    for i in range(len(files)):\n",
    "        file_truth = file_truths[i]\n",
    "        file = files[i]\n",
    "        d = calc_hausdorff_distance(file_truth, file)\n",
    "        tmps.append(d)\n",
    "    return tmps"
   ]
  },
  {
   "cell_type": "markdown",
   "id": "eadb1c63",
   "metadata": {},
   "source": [
    "## Get the Coloring Values: tmp1, tmp2"
   ]
  },
  {
   "cell_type": "code",
   "execution_count": 75,
   "id": "8cca827d",
   "metadata": {
    "scrolled": false
   },
   "outputs": [],
   "source": [
    "def calculate_tmp(tmp, d, attr,way='william'):\n",
    "    if way=='william':\n",
    "        return [abs(j)/d[attr]*100 for j in tmp] # normalize with diag_mesh distance\n",
    "    return [abs(j) for j in tmp]\n",
    "\n",
    "\n",
    "def truncate_tmp(tmp,lower_percentile=5, higher_percentile = 95):   \n",
    "    print('real max of tmp: ',max(tmp))\n",
    "    minz = np.percentile(tmp, lower_percentile)\n",
    "    maxz = np.percentile(tmp, higher_percentile)\n",
    "    # truncate it between minz and maxz\n",
    "    tmp = [max(max(i, minz),min(i,maxz)) for i in tmp]\n",
    "    return tmp\n",
    "\n",
    "def maximize_tmp(mses, tmps, maximize=True, MAX_VALUE = 1.8):\n",
    "    if maximize:\n",
    "        for i in range(len(tmps)):\n",
    "            # modify tmp value to include the same MAX_VALUE as its max_value\n",
    "            tmps[i] = [min(j, MAX_VALUE) for j in tmps[i]]\n",
    "            idx = tmps[i].index(max(tmps[i]))\n",
    "            tmps[i][idx] = MAX_VALUE\n",
    "            # assign tmp values to mesh\n",
    "            mses[i]['values'] = tmps[i]\n",
    "    return mses, tmps\n",
    "    \n",
    "\n",
    "def getit(files,file_truths,d,attr,MAX_VALUE=4.5):\n",
    "    tmps = []\n",
    "    mses = []\n",
    "    for i in range(len(files)):\n",
    "#         plt.subplot(5,1,i+1)\n",
    "        file_truth = file_truths[i]\n",
    "        file = files[i]\n",
    "        ms2 = ml.MeshSet()\n",
    "        ms2.load_new_mesh(file_truth)\n",
    "        ms2.load_new_mesh(file)\n",
    "        ms2.compute_scalar_by_distance_from_another_mesh_per_vertex()\n",
    "        ms2.compute_color_from_scalar_per_vertex()\n",
    "        ms2.apply_color_inverse_per_vertex()\n",
    "\n",
    "        tmp = list(ms2[1].vertex_scalar_array())\n",
    "        tmp = calculate_tmp(tmp,d[i], attr)\n",
    "        tmp = truncate_tmp(tmp)\n",
    "        tmps.append(tmp)\n",
    "        \n",
    "        mesh = pv.read(file)\n",
    "        mses.append(mesh)\n",
    "        \n",
    "    mses,tmps = maximize_tmp(mses,tmps)\n",
    "    return mses, tmps"
   ]
  },
  {
   "cell_type": "code",
   "execution_count": 76,
   "id": "dd16212a",
   "metadata": {
    "scrolled": true
   },
   "outputs": [],
   "source": [
    "d1 = get_hdd(files1, file_truths1)\n",
    "d2 = get_hdd(files2, file_truths2)"
   ]
  },
  {
   "cell_type": "code",
   "execution_count": 77,
   "id": "2c4fb1b5",
   "metadata": {},
   "outputs": [
    {
     "name": "stdout",
     "output_type": "stream",
     "text": [
      "real max of tmp:  6.04252876311079\n",
      "real max of tmp:  2.099364022693511\n",
      "real max of tmp:  2.169705077863622\n",
      "real max of tmp:  1.7714791422515495\n",
      "real max of tmp:  1.2495406642202718\n",
      "real max of tmp:  6.180894003732273\n",
      "real max of tmp:  3.4294845901979683\n",
      "real max of tmp:  4.128479694645356\n",
      "real max of tmp:  1.3262658326035814\n",
      "real max of tmp:  1.9227369635716376\n"
     ]
    }
   ],
   "source": [
    "attr = 'diag_mesh_0'\n",
    "mses1, tmps1 = getit(files1,file_truths1,d1,attr)\n",
    "mses2, tmps2 = getit(files2,file_truths2,d2,attr)"
   ]
  },
  {
   "cell_type": "markdown",
   "id": "1d00c70c",
   "metadata": {},
   "source": [
    "## Visualize the distance/diag_mesh_0"
   ]
  },
  {
   "cell_type": "code",
   "execution_count": null,
   "id": "2d226864",
   "metadata": {},
   "outputs": [],
   "source": [
    "def plt_tmp(tmps,suptitle,models):\n",
    "    plt.figure(figsize=(15,4))\n",
    "    plt.suptitle(suptitle)\n",
    "    for i in range(1,6):\n",
    "        plt.subplot(1,5,i)\n",
    "        data = tmps[i-1]\n",
    "        plt.hist(data,bins = 30, weights=np.ones_like(data) / len(data))\n",
    "        plt.xlim(-0.5,3)\n",
    "        plt.ylim(0,1)\n",
    "        plt.title(models[i-1])\n",
    "        plt.xlabel('distance/diag (%)')\n",
    "        plt.ylabel('vertex counts Frequency')\n",
    "        \n",
    "# plt_tmp(tmps1,'pial',models1)\n",
    "# plt_tmp(tmps2,'white',models2)"
   ]
  },
  {
   "cell_type": "code",
   "execution_count": null,
   "id": "4d4824cd",
   "metadata": {},
   "outputs": [],
   "source": [
    "plt_tmp(tmps1,'pial',models1)"
   ]
  },
  {
   "cell_type": "code",
   "execution_count": null,
   "id": "0eb13ea7",
   "metadata": {},
   "outputs": [],
   "source": [
    "plt_tmp(tmps2,'white',models2)"
   ]
  },
  {
   "cell_type": "code",
   "execution_count": null,
   "id": "6667f64f",
   "metadata": {},
   "outputs": [],
   "source": [
    "for i in tmps1:\n",
    "    print(np.mean(i),min(i),max(i))"
   ]
  },
  {
   "cell_type": "markdown",
   "id": "a7f1fd1a",
   "metadata": {},
   "source": [
    "## Visualize brain and save as PNG"
   ]
  },
  {
   "cell_type": "markdown",
   "id": "7b31f2b6",
   "metadata": {},
   "source": [
    "### Play with ColorMap"
   ]
  },
  {
   "cell_type": "code",
   "execution_count": null,
   "id": "0613e3b2",
   "metadata": {},
   "outputs": [],
   "source": [
    "cmap=mpl.colormaps['inferno']"
   ]
  },
  {
   "cell_type": "code",
   "execution_count": null,
   "id": "ef156e17",
   "metadata": {},
   "outputs": [],
   "source": [
    "cmap"
   ]
  },
  {
   "cell_type": "markdown",
   "id": "9f61a460",
   "metadata": {},
   "source": [
    "#### Linear Colors "
   ]
  },
  {
   "cell_type": "code",
   "execution_count": null,
   "id": "f004694e",
   "metadata": {},
   "outputs": [],
   "source": [
    "cmap = mpl.colormaps['inferno']"
   ]
  },
  {
   "cell_type": "code",
   "execution_count": null,
   "id": "24169345",
   "metadata": {},
   "outputs": [],
   "source": [
    "n = len(cmap.colors)\n",
    "cs = [36, 72, 109, 145, 182, 218, 255]\n",
    "colors = [cmap.colors[i] for i in cs]\n",
    "colors = [Color(rgb=i) for i in colors]"
   ]
  },
  {
   "cell_type": "code",
   "execution_count": null,
   "id": "b6820b4e",
   "metadata": {},
   "outputs": [],
   "source": [
    "def getcolormap(colors = colors):\n",
    "    c = colors\n",
    "    ccc = defaultdict(list)\n",
    "    ccc[1] = list(c[0].range_to(c[4],200))\n",
    "    ccc[7] = list(c[4].range_to(c[-1],56))\n",
    "\n",
    "    cccs = []\n",
    "    for k in range(1,8):\n",
    "        ccc[k] = [list(i.get_rgb())+[1] for i in ccc[k]]\n",
    "        cccs += ccc[k]\n",
    "\n",
    "    # Define the colors we want to use\n",
    "    colors = cccs\n",
    "    my_colormap = ListedColormap(np.array(colors))\n",
    "    return my_colormap\n",
    "\n",
    "def seeit(mesh,):\n",
    "    my_colormap = getcolormap()\n",
    "    # Make the colormap from the listed colors\n",
    "    \n",
    "    pl = pv.Plotter()\n",
    "    _ = pl.add_mesh(mesh,cmap=my_colormap)\n",
    "    pl.set_viewup([0,1,0])\n",
    "    pl.show()"
   ]
  },
  {
   "cell_type": "code",
   "execution_count": null,
   "id": "504bc640",
   "metadata": {},
   "outputs": [],
   "source": [
    "seeit(mses1[0])"
   ]
  },
  {
   "cell_type": "markdown",
   "id": "4e4fb2a4",
   "metadata": {},
   "source": [
    "#### Other ways"
   ]
  },
  {
   "cell_type": "code",
   "execution_count": null,
   "id": "e846eea9",
   "metadata": {},
   "outputs": [],
   "source": [
    "cmap = mpl.colormaps['inferno']"
   ]
  },
  {
   "cell_type": "code",
   "execution_count": null,
   "id": "4fbbd176",
   "metadata": {},
   "outputs": [],
   "source": [
    "cmap"
   ]
  },
  {
   "cell_type": "code",
   "execution_count": null,
   "id": "22319336",
   "metadata": {},
   "outputs": [],
   "source": [
    "newcolors = []\n",
    "\n",
    "for i in range(66):\n",
    "    newcolors.append(cmap.colors[i])\n",
    "    newcolors.append(cmap.colors[i])\n",
    "    newcolors.append(cmap.colors[i])\n",
    "        \n",
    "for i in range(80,253):\n",
    "    if i % 3 == 0:\n",
    "        newcolors.append(cmap.colors[i])\n",
    "        \n"
   ]
  },
  {
   "cell_type": "code",
   "execution_count": null,
   "id": "8498cae9",
   "metadata": {
    "scrolled": true
   },
   "outputs": [],
   "source": [
    "len(newcolors)"
   ]
  },
  {
   "cell_type": "code",
   "execution_count": null,
   "id": "eb14fbb6",
   "metadata": {},
   "outputs": [],
   "source": [
    "my_colormap = ListedColormap(np.array(newcolors[::-1]))"
   ]
  },
  {
   "cell_type": "markdown",
   "id": "9ffcc2af",
   "metadata": {},
   "source": [
    "### Visualize it"
   ]
  },
  {
   "cell_type": "code",
   "execution_count": null,
   "id": "9f86f77e",
   "metadata": {},
   "outputs": [],
   "source": [
    "cmap_candidates = [mpl.colormaps['inferno'].reversed(), my_colormap,mpl.colormaps['inferno'] ]\n",
    "def visualize_brain(m = 'pial', models = models1, mses = mses1, scale = 6, cmap_idx = 0):\n",
    "    cmap = cmap_candidates[i]\n",
    "    for i in range(len(models)):\n",
    "        viewup1 = [1,0,0]\n",
    "        viewup2 = [0,0,1]\n",
    "        mesh = mses[i]\n",
    "        pl = pv.Plotter()\n",
    "        actor = pl.add_mesh(mesh,cmap=cmap)\n",
    "\n",
    "        pl.set_background('white', all_renderers=False)\n",
    "        pl.remove_scalar_bar()\n",
    "\n",
    "        pl.view_yz()\n",
    "        pl.set_viewup(viewup1)\n",
    "        if i==3 and m == 'pial':\n",
    "            pl.set_viewup(viewup2)\n",
    "\n",
    "        pl.remove_legend()\n",
    "        pl.remove_floors()\n",
    "        pl.remove_bounding_box()\n",
    "        pl.remove_bounds_axes()\n",
    "        pl.update_bounds_axes()\n",
    "        pl.show()\n",
    "        pl.screenshot(m + models[i] + '.png', transparent_background=True, return_img=True, scale=scale)"
   ]
  },
  {
   "cell_type": "code",
   "execution_count": null,
   "id": "6742b1bf",
   "metadata": {
    "scrolled": false
   },
   "outputs": [],
   "source": [
    "visualize_brain()"
   ]
  },
  {
   "cell_type": "code",
   "execution_count": null,
   "id": "9c19c06f",
   "metadata": {
    "scrolled": false
   },
   "outputs": [],
   "source": [
    "visualize_brain(m = 'white', models = models2, mses = mses2, scale = 6)"
   ]
  },
  {
   "cell_type": "markdown",
   "id": "a57bd6bd",
   "metadata": {},
   "source": [
    "### Get Legend Plot"
   ]
  },
  {
   "cell_type": "code",
   "execution_count": 92,
   "id": "a3cbf3ef",
   "metadata": {},
   "outputs": [
    {
     "name": "stderr",
     "output_type": "stream",
     "text": [
      "\u001b[0m\u001b[33m2023-04-13 00:41:10.120 ( 711.531s) [          E992E1]        vtkRenderer.cxx:1172  WARN| vtkOpenGLRenderer (0x7fae4144ea00): Resetting view-up since view plane normal is parallel\u001b[0m\n"
     ]
    },
    {
     "data": {
      "application/vnd.jupyter.widget-view+json": {
       "model_id": "bda67c5f21ae478cad7019890eeb54f7",
       "version_major": 2,
       "version_minor": 0
      },
      "text/plain": [
       "Widget(value=\"<iframe src='http://localhost:60323/index.html?ui=P_0x7fae1fac0fa0_7&reconnect=auto' style='widt…"
      ]
     },
     "metadata": {},
     "output_type": "display_data"
    }
   ],
   "source": [
    "cmap = mpl.colormaps['inferno'].reversed()\n",
    "\n",
    "viewup1 = [1,0,0]\n",
    "pv.global_theme.font.color = 'black'\n",
    "mesh = mses1[0]\n",
    "pl = pv.Plotter()\n",
    "actor = pl.add_mesh(mesh,cmap=cmap)\n",
    "\n",
    "pl.set_background('white', all_renderers=False)\n",
    "# pl.remove_scalar_bar()\n",
    "\n",
    "pl.view_yz()\n",
    "pl.set_viewup(viewup1)\n",
    "# pl.remove_actor(actor)\n",
    "# pl.remove_legend()\n",
    "pl.remove_floors()\n",
    "pl.remove_bounding_box()\n",
    "# pl.remove_bounds_axes()\n",
    "# pl.update_bounds_axes()\n",
    "pl.show()"
   ]
  },
  {
   "cell_type": "code",
   "execution_count": 94,
   "id": "8bddcdc9",
   "metadata": {},
   "outputs": [
    {
     "data": {
      "text/plain": [
       "pyvista_ndarray([[[255, 255, 255,   0],\n",
       "                  [255, 255, 255,   0],\n",
       "                  [255, 255, 255,   0],\n",
       "                  ...,\n",
       "                  [255, 255, 255,   0],\n",
       "                  [255, 255, 255,   0],\n",
       "                  [255, 255, 255,   0]],\n",
       "\n",
       "                 [[255, 255, 255,   0],\n",
       "                  [255, 255, 255,   0],\n",
       "                  [255, 255, 255,   0],\n",
       "                  ...,\n",
       "                  [255, 255, 255,   0],\n",
       "                  [255, 255, 255,   0],\n",
       "                  [255, 255, 255,   0]],\n",
       "\n",
       "                 [[255, 255, 255,   0],\n",
       "                  [255, 255, 255,   0],\n",
       "                  [255, 255, 255,   0],\n",
       "                  ...,\n",
       "                  [255, 255, 255,   0],\n",
       "                  [255, 255, 255,   0],\n",
       "                  [255, 255, 255,   0]],\n",
       "\n",
       "                 ...,\n",
       "\n",
       "                 [[255, 255, 255,   0],\n",
       "                  [255, 255, 255,   0],\n",
       "                  [255, 255, 255,   0],\n",
       "                  ...,\n",
       "                  [255, 255, 255,   0],\n",
       "                  [255, 255, 255,   0],\n",
       "                  [255, 255, 255,   0]],\n",
       "\n",
       "                 [[255, 255, 255,   0],\n",
       "                  [255, 255, 255,   0],\n",
       "                  [255, 255, 255,   0],\n",
       "                  ...,\n",
       "                  [255, 255, 255,   0],\n",
       "                  [255, 255, 255,   0],\n",
       "                  [255, 255, 255,   0]],\n",
       "\n",
       "                 [[255, 255, 255,   0],\n",
       "                  [255, 255, 255,   0],\n",
       "                  [255, 255, 255,   0],\n",
       "                  ...,\n",
       "                  [255, 255, 255,   0],\n",
       "                  [255, 255, 255,   0],\n",
       "                  [255, 255, 255,   0]]], dtype=uint8)"
      ]
     },
     "execution_count": 94,
     "metadata": {},
     "output_type": "execute_result"
    }
   ],
   "source": [
    "pl.screenshot('legend.png', transparent_background=True, return_img=True, scale=6)"
   ]
  },
  {
   "cell_type": "code",
   "execution_count": 89,
   "id": "4a45881c",
   "metadata": {},
   "outputs": [
    {
     "data": {
      "text/plain": [
       "['_BasePlotter__before_close_callback',\n",
       " '__class__',\n",
       " '__del__',\n",
       " '__delattr__',\n",
       " '__dict__',\n",
       " '__dir__',\n",
       " '__doc__',\n",
       " '__eq__',\n",
       " '__format__',\n",
       " '__ge__',\n",
       " '__getattribute__',\n",
       " '__gt__',\n",
       " '__hash__',\n",
       " '__init__',\n",
       " '__init_subclass__',\n",
       " '__le__',\n",
       " '__lt__',\n",
       " '__module__',\n",
       " '__ne__',\n",
       " '__new__',\n",
       " '__reduce__',\n",
       " '__reduce_ex__',\n",
       " '__repr__',\n",
       " '__setattr__',\n",
       " '__sizeof__',\n",
       " '__str__',\n",
       " '__subclasshook__',\n",
       " '__weakref__',\n",
       " '_add_legend_label',\n",
       " '_before_close_callback',\n",
       " '_check_has_ren_win',\n",
       " '_check_rendered',\n",
       " '_clear_ren_win',\n",
       " '_closed',\n",
       " '_datasets',\n",
       " '_first_time',\n",
       " '_has_background_layer',\n",
       " '_id_name',\n",
       " '_image_depth_null',\n",
       " '_image_scale',\n",
       " '_initialized',\n",
       " '_on_first_render_request',\n",
       " '_on_render_callbacks',\n",
       " '_picked_block_index',\n",
       " '_picked_mesh',\n",
       " '_picked_point',\n",
       " '_picker',\n",
       " '_picking_left_clicking_observer',\n",
       " '_picking_text',\n",
       " '_prep_for_close',\n",
       " '_rendered',\n",
       " '_save_image',\n",
       " '_save_panel',\n",
       " '_scalar_bar_slot_lookup',\n",
       " '_scalar_bar_slots',\n",
       " '_scalar_bars',\n",
       " '_suppress_rendering',\n",
       " '_theme',\n",
       " '_window_size_unset',\n",
       " 'actors',\n",
       " 'add_actor',\n",
       " 'add_arrows',\n",
       " 'add_axes',\n",
       " 'add_axes_at_origin',\n",
       " 'add_background_image',\n",
       " 'add_blurring',\n",
       " 'add_bounding_box',\n",
       " 'add_box_widget',\n",
       " 'add_camera_orientation_widget',\n",
       " 'add_chart',\n",
       " 'add_checkbox_button_widget',\n",
       " 'add_composite',\n",
       " 'add_cursor',\n",
       " 'add_floor',\n",
       " 'add_key_event',\n",
       " 'add_legend',\n",
       " 'add_legend_scale',\n",
       " 'add_light',\n",
       " 'add_line_widget',\n",
       " 'add_lines',\n",
       " 'add_mesh',\n",
       " 'add_mesh_clip_box',\n",
       " 'add_mesh_clip_plane',\n",
       " 'add_mesh_isovalue',\n",
       " 'add_mesh_slice',\n",
       " 'add_mesh_slice_orthogonal',\n",
       " 'add_mesh_slice_spline',\n",
       " 'add_mesh_threshold',\n",
       " 'add_on_render_callback',\n",
       " 'add_orientation_widget',\n",
       " 'add_plane_widget',\n",
       " 'add_point_labels',\n",
       " 'add_point_scalar_labels',\n",
       " 'add_points',\n",
       " 'add_ruler',\n",
       " 'add_scalar_bar',\n",
       " 'add_silhouette',\n",
       " 'add_slider_widget',\n",
       " 'add_sphere_widget',\n",
       " 'add_spline_widget',\n",
       " 'add_text',\n",
       " 'add_text_slider_widget',\n",
       " 'add_title',\n",
       " 'add_volume',\n",
       " 'add_volume_clip_plane',\n",
       " 'background_color',\n",
       " 'bounds',\n",
       " 'box_clipped_meshes',\n",
       " 'box_widgets',\n",
       " 'button_widgets',\n",
       " 'camera',\n",
       " 'camera_position',\n",
       " 'camera_set',\n",
       " 'camera_widgets',\n",
       " 'center',\n",
       " 'clear',\n",
       " 'clear_actors',\n",
       " 'clear_box_widgets',\n",
       " 'clear_button_widgets',\n",
       " 'clear_camera_widgets',\n",
       " 'clear_events_for_key',\n",
       " 'clear_line_widgets',\n",
       " 'clear_on_render_callbacks',\n",
       " 'clear_plane_widgets',\n",
       " 'clear_slider_widgets',\n",
       " 'clear_sphere_widgets',\n",
       " 'clear_spline_widgets',\n",
       " 'click_position',\n",
       " 'close',\n",
       " 'deep_clean',\n",
       " 'disable',\n",
       " 'disable_3_lights',\n",
       " 'disable_anti_aliasing',\n",
       " 'disable_depth_of_field',\n",
       " 'disable_depth_peeling',\n",
       " 'disable_eye_dome_lighting',\n",
       " 'disable_hidden_line_removal',\n",
       " 'disable_parallel_projection',\n",
       " 'disable_picking',\n",
       " 'disable_shadows',\n",
       " 'disable_ssao',\n",
       " 'disable_stereo_render',\n",
       " 'enable',\n",
       " 'enable_3_lights',\n",
       " 'enable_anti_aliasing',\n",
       " 'enable_block_picking',\n",
       " 'enable_cell_picking',\n",
       " 'enable_depth_of_field',\n",
       " 'enable_depth_peeling',\n",
       " 'enable_eye_dome_lighting',\n",
       " 'enable_fly_to_right_click',\n",
       " 'enable_geodesic_picking',\n",
       " 'enable_hidden_line_removal',\n",
       " 'enable_horizon_picking',\n",
       " 'enable_image_style',\n",
       " 'enable_joystick_actor_style',\n",
       " 'enable_joystick_style',\n",
       " 'enable_lightkit',\n",
       " 'enable_mesh_picking',\n",
       " 'enable_parallel_projection',\n",
       " 'enable_path_picking',\n",
       " 'enable_point_picking',\n",
       " 'enable_rubber_band_2d_style',\n",
       " 'enable_rubber_band_style',\n",
       " 'enable_shadows',\n",
       " 'enable_ssao',\n",
       " 'enable_stereo_render',\n",
       " 'enable_surface_picking',\n",
       " 'enable_terrain_style',\n",
       " 'enable_trackball_actor_style',\n",
       " 'enable_trackball_style',\n",
       " 'enable_zoom_style',\n",
       " 'export_gltf',\n",
       " 'export_html',\n",
       " 'export_obj',\n",
       " 'export_vrml',\n",
       " 'export_vtkjs',\n",
       " 'fly_to',\n",
       " 'fly_to_mouse_position',\n",
       " 'generate_orbital_path',\n",
       " 'get_default_cam_pos',\n",
       " 'get_image_depth',\n",
       " 'get_pick_position',\n",
       " 'hide_axes',\n",
       " 'hide_axes_all',\n",
       " 'image',\n",
       " 'image_depth',\n",
       " 'image_scale',\n",
       " 'image_scale_context',\n",
       " 'image_transparent_background',\n",
       " 'import_gltf',\n",
       " 'import_vrml',\n",
       " 'increment_point_size_and_line_width',\n",
       " 'iren',\n",
       " 'isometric_view',\n",
       " 'isometric_view_interactive',\n",
       " 'isovalue_meshes',\n",
       " 'key_press_event',\n",
       " 'last_image',\n",
       " 'last_image_depth',\n",
       " 'last_update_time',\n",
       " 'left_button_down',\n",
       " 'legend',\n",
       " 'length',\n",
       " 'line_widgets',\n",
       " 'link_views',\n",
       " 'mapper',\n",
       " 'mesh',\n",
       " 'mouse_position',\n",
       " 'notebook',\n",
       " 'off_screen',\n",
       " 'open_gif',\n",
       " 'open_movie',\n",
       " 'orbit_on_path',\n",
       " 'parallel_projection',\n",
       " 'parallel_scale',\n",
       " 'pick_click_position',\n",
       " 'pick_mouse_position',\n",
       " 'pickable_actors',\n",
       " 'picked_block_index',\n",
       " 'picked_cells',\n",
       " 'picked_geodesic',\n",
       " 'picked_horizon',\n",
       " 'picked_mesh',\n",
       " 'picked_path',\n",
       " 'picked_point',\n",
       " 'plane_clipped_meshes',\n",
       " 'plane_sliced_meshes',\n",
       " 'plane_widgets',\n",
       " 'remove_actor',\n",
       " 'remove_all_lights',\n",
       " 'remove_background_image',\n",
       " 'remove_blurring',\n",
       " 'remove_bounding_box',\n",
       " 'remove_bounds_axes',\n",
       " 'remove_chart',\n",
       " 'remove_environment_texture',\n",
       " 'remove_floors',\n",
       " 'remove_legend',\n",
       " 'remove_scalar_bar',\n",
       " 'ren_win',\n",
       " 'render',\n",
       " 'render_window',\n",
       " 'renderer',\n",
       " 'renderers',\n",
       " 'reset_camera',\n",
       " 'reset_camera_clipping_range',\n",
       " 'reset_key_events',\n",
       " 'save_graphic',\n",
       " 'scalar_bar',\n",
       " 'scalar_bars',\n",
       " 'scale',\n",
       " 'screenshot',\n",
       " 'set_background',\n",
       " 'set_chart_interaction',\n",
       " 'set_color_cycler',\n",
       " 'set_environment_texture',\n",
       " 'set_focus',\n",
       " 'set_position',\n",
       " 'set_scale',\n",
       " 'set_viewup',\n",
       " 'shape',\n",
       " 'show',\n",
       " 'show_axes',\n",
       " 'show_axes_all',\n",
       " 'show_bounds',\n",
       " 'show_grid',\n",
       " 'slider_widgets',\n",
       " 'sphere_widgets',\n",
       " 'spline_sliced_meshes',\n",
       " 'spline_widgets',\n",
       " 'store_click_position',\n",
       " 'store_image',\n",
       " 'store_mouse_position',\n",
       " 'subplot',\n",
       " 'suppress_rendering',\n",
       " 'theme',\n",
       " 'threshold_meshes',\n",
       " 'title',\n",
       " 'to_pythreejs',\n",
       " 'track_click_position',\n",
       " 'track_mouse_position',\n",
       " 'unlink_views',\n",
       " 'untrack_click_position',\n",
       " 'untrack_mouse_position',\n",
       " 'update',\n",
       " 'update_bounds_axes',\n",
       " 'update_coordinates',\n",
       " 'update_scalar_bar_range',\n",
       " 'update_scalars',\n",
       " 'update_timer_id',\n",
       " 'view_isometric',\n",
       " 'view_vector',\n",
       " 'view_xy',\n",
       " 'view_xz',\n",
       " 'view_yx',\n",
       " 'view_yz',\n",
       " 'view_zx',\n",
       " 'view_zy',\n",
       " 'where_is',\n",
       " 'window_size',\n",
       " 'window_size_context',\n",
       " 'write_frame']"
      ]
     },
     "execution_count": 89,
     "metadata": {},
     "output_type": "execute_result"
    }
   ],
   "source": [
    "dir(pl)"
   ]
  },
  {
   "cell_type": "markdown",
   "id": "ca4521dd",
   "metadata": {},
   "source": [
    "## Put Multiple Figures in One Using Matplotlib"
   ]
  },
  {
   "cell_type": "markdown",
   "id": "354cfc7b",
   "metadata": {},
   "source": [
    "### Get all the PNG files"
   ]
  },
  {
   "cell_type": "code",
   "execution_count": null,
   "id": "ebcb6552",
   "metadata": {},
   "outputs": [],
   "source": [
    "\n",
    "\n",
    "pialfiles = []\n",
    "whitefiles = []\n",
    "\n",
    "all_files = os.listdir('./whitepng')\n",
    "for f in all_files:\n",
    "    if f[:4] == 'pial' and f[-4:] == '.png' and '_' not in f:\n",
    "        pialfiles.append(f)\n",
    "    if f[:5] == 'white' and f[-4:] == '.png' and '_' not in f:\n",
    "        whitefiles.append(f)  \n",
    "        \n",
    "all_files = os.listdir('./pialpng')\n",
    "for f in all_files:\n",
    "    if f[:4] == 'pial' and f[-4:] == '.png' and '_' not in f:\n",
    "        pialfiles.append(f)\n",
    "    if f[:5] == 'white' and f[-4:] == '.png' and '_' not in f:\n",
    "        whitefiles.append(f) "
   ]
  },
  {
   "cell_type": "code",
   "execution_count": null,
   "id": "b91d97b0",
   "metadata": {},
   "outputs": [],
   "source": [
    "pialfiles"
   ]
  },
  {
   "cell_type": "markdown",
   "id": "0f16bc1a",
   "metadata": {},
   "source": [
    "### Convert PNG to SVG"
   ]
  },
  {
   "cell_type": "code",
   "execution_count": null,
   "id": "2c547803",
   "metadata": {},
   "outputs": [],
   "source": [
    "from PIL import Image\n",
    "import os\n",
    "\n",
    "# Set the file paths\n",
    "\n",
    "png_file_path = './whitepng/whitevox2cortex.png'\n",
    "svg_file_path = ''\n",
    "\n",
    "# Open the PNG image\n",
    "img = Image.open(png_file_path)\n",
    "\n",
    "# Convert the image to SVG format\n",
    "img.save(svg_file_path, 'svg')"
   ]
  },
  {
   "cell_type": "code",
   "execution_count": null,
   "id": "b864c779",
   "metadata": {},
   "outputs": [],
   "source": [
    "from PIL import Image\n",
    "import svgwrite\n",
    "\n",
    "# Load the PNG image\n",
    "im = Image.open(\"./whitepng/whitevox2cortex.png\")\n",
    "\n",
    "# Create a new SVG drawing\n",
    "svg = svgwrite.Drawing(\"image.svg\")\n",
    "\n",
    "# Create an SVG image object\n",
    "svg_image = svgwrite.image.Image(\"data:image/png;base64,\" + im.tobytes().decode(\"base64\").encode(\"base64\").replace(\"\\n\", \"\"))\n",
    "\n",
    "# Add the image object to the SVG drawing\n",
    "svg.add(svg_image)\n",
    "\n",
    "# Save the SVG drawing\n",
    "svg.save()"
   ]
  },
  {
   "cell_type": "code",
   "execution_count": null,
   "id": "cb13135e",
   "metadata": {},
   "outputs": [],
   "source": []
  },
  {
   "cell_type": "markdown",
   "id": "61dcabe0",
   "metadata": {},
   "source": [
    "### modify SVG file to remove reduplicated ids"
   ]
  },
  {
   "cell_type": "code",
   "execution_count": 35,
   "id": "bde7dd1a",
   "metadata": {},
   "outputs": [],
   "source": [
    "import random\n",
    "\n",
    "#read input file\n",
    "def modify_svg(svgfile, savetofile):\n",
    "    fin = open(svgfile, \"rt\")\n",
    "\n",
    "    #read file contents to string\n",
    "    data = fin.read()\n",
    "    \n",
    "    #replace all occurrences of the required string\n",
    "    \n",
    "    # generate random str\n",
    "    x = random.random()\n",
    "    x = int(x*100000)\n",
    "    data = data.replace('id=\"img', 'id=\"img'+str(x))\n",
    "    data = data.replace('#img', '#img'+str(x))\n",
    "    data = data.replace('id=\"clip', 'id=\"clip'+str(x))\n",
    "    data = data.replace('#clip', '#clip'+str(x))    \n",
    "    \n",
    "    #close the input file\n",
    "    fin.close()\n",
    "\n",
    "    #open the input file in write mode\n",
    "    fin = open('modified_' + svgfile, \"wt\")\n",
    "\n",
    "    #overrite the input file with the resulting data\n",
    "    fin.write(data)\n",
    "\n",
    "    #close the file\n",
    "    fin.close()"
   ]
  },
  {
   "cell_type": "markdown",
   "id": "264c0dc3",
   "metadata": {},
   "source": [
    "### Put the files together in one plot"
   ]
  },
  {
   "cell_type": "code",
   "execution_count": null,
   "id": "4bfba990",
   "metadata": {},
   "outputs": [],
   "source": [
    "whitefiles"
   ]
  },
  {
   "cell_type": "code",
   "execution_count": null,
   "id": "61bb34d3",
   "metadata": {},
   "outputs": [],
   "source": [
    "#import libraries\n",
    "import cv2\n",
    "  \n",
    "# create figure\n",
    "fig = plt.figure(figsize=(10, 7))\n",
    "  \n",
    "# setting values to rows and column variables\n",
    "rows = 2\n",
    "columns = 2\n",
    "  \n",
    "# reading images\n",
    "Image1 = cv2.imread(whitefiles[0])\n",
    "Image2 = cv2.imread(whitefiles[1])\n",
    "Image3 = cv2.imread(whitefiles[2])\n",
    "Image4 = cv2.imread(whitefiles[3])\n",
    "  \n",
    "# Adds a subplot at the 1st position\n",
    "fig.add_subplot(rows, columns, 1)\n",
    "  \n",
    "# showing image\n",
    "plt.imshow(Image1)\n",
    "plt.axis('off')\n",
    "plt.title(\"First\")\n",
    "  \n",
    "# Adds a subplot at the 2nd position\n",
    "fig.add_subplot(rows, columns, 2)\n",
    "  \n",
    "# showing image\n",
    "plt.imshow(Image2)\n",
    "plt.axis('off')\n",
    "plt.title(\"Second\")\n",
    "  \n",
    "# Adds a subplot at the 3rd position\n",
    "fig.add_subplot(rows, columns, 3)\n",
    "  \n",
    "# showing image\n",
    "plt.imshow(Image3)\n",
    "plt.axis('off')\n",
    "plt.title(\"Third\")\n",
    "  \n",
    "# Adds a subplot at the 4th position\n",
    "fig.add_subplot(rows, columns, 4)\n",
    "  \n",
    "# showing image\n",
    "plt.imshow(Image4)\n",
    "plt.axis('off')\n",
    "plt.title(\"Fourth\")"
   ]
  },
  {
   "cell_type": "code",
   "execution_count": null,
   "id": "060e0528",
   "metadata": {},
   "outputs": [],
   "source": []
  },
  {
   "cell_type": "code",
   "execution_count": null,
   "id": "9b5671cf",
   "metadata": {},
   "outputs": [],
   "source": []
  },
  {
   "cell_type": "code",
   "execution_count": null,
   "id": "b752bf95",
   "metadata": {},
   "outputs": [],
   "source": [
    "\n",
    "\n",
    "\n",
    "def getcolormap(c1,c2):\n",
    "    green = Color(c1)\n",
    "    red = Color(c2)\n",
    "    c = list(green.range_to(red,8))\n",
    "\n",
    "    ccc = defaultdict(list)\n",
    "    ccc[1] = list(green.range_to(c[1],3))\n",
    "    ccc[2] = list(c[1].range_to(c[2],6))\n",
    "    ccc[3] = list(c[2].range_to(c[3],10))\n",
    "    ccc[4] = list(c[3].range_to(c[4],20))\n",
    "    ccc[5] = list(c[4].range_to(c[5],40))\n",
    "    ccc[6] = list(c[5].range_to(c[6],80))\n",
    "    ccc[7] = list(c[6].range_to(c[7],96))\n",
    "\n",
    "    cccs = []\n",
    "    for k in range(1,8):\n",
    "        ccc[k] = [list(i.get_rgb())+[1] for i in ccc[k]]\n",
    "        cccs += ccc[k]\n",
    "\n",
    "    # Define the colors we want to use\n",
    "    colors = cccs\n",
    "    my_colormap = ListedColormap(np.array(colors))\n",
    "    return my_colormap\n",
    "\n",
    "def seeit(mesh,c1='lightgreen',c2='lightpink'):\n",
    "    my_colormap = getcolormap(c1,c2)\n",
    "    # Make the colormap from the listed colors\n",
    "    \n",
    "    pl = pv.Plotter(shape=(1,5))\n",
    "    pl.subplot(0,1)\n",
    "    _ = pl.add_mesh(mesh,cmap=my_colormap)\n",
    "    pl.set_viewup([0,1,0])\n",
    "    pl.show()"
   ]
  },
  {
   "cell_type": "markdown",
   "id": "e689297f",
   "metadata": {},
   "source": [
    "## Exploring cmap"
   ]
  },
  {
   "cell_type": "code",
   "execution_count": null,
   "id": "da5134b4",
   "metadata": {},
   "outputs": [],
   "source": [
    "\n",
    "\n",
    "cmaps = {}\n",
    "\n",
    "gradient = np.linspace(0, 1, 256)\n",
    "gradient = np.vstack((gradient, gradient))\n",
    "\n",
    "\n",
    "def plot_color_gradients(category, cmap_list):\n",
    "    # Create figure and adjust figure height to number of colormaps\n",
    "    nrows = len(cmap_list)\n",
    "    figh = 0.35 + 0.15 + (nrows + (nrows - 1) * 0.1) * 0.22\n",
    "    fig, axs = plt.subplots(nrows=nrows + 1, figsize=(6.4, figh))\n",
    "    fig.subplots_adjust(top=1 - 0.35 / figh, bottom=0.15 / figh,\n",
    "                        left=0.2, right=0.99)\n",
    "    axs[0].set_title(f'{category} colormaps', fontsize=14)\n",
    "\n",
    "    for ax, name in zip(axs, cmap_list):\n",
    "        ax.imshow(gradient, aspect='auto', cmap=mpl.colormaps[name])\n",
    "        ax.text(-0.01, 0.5, name, va='center', ha='right', fontsize=10,\n",
    "                transform=ax.transAxes)\n",
    "\n",
    "    # Turn off *all* ticks & spines, not just the ones with colormaps.\n",
    "    for ax in axs:\n",
    "        ax.set_axis_off()\n",
    "\n",
    "    # Save colormap list for later.\n",
    "    cmaps[category] = cmap_list\n",
    "    return cmaps\n",
    "    \n",
    "cmaps = plot_color_gradients('Perceptually Uniform Sequential',\n",
    "                     ['viridis', 'plasma', 'inferno', 'magma', 'cividis'])"
   ]
  },
  {
   "cell_type": "code",
   "execution_count": null,
   "id": "a6b22785",
   "metadata": {},
   "outputs": [],
   "source": [
    "mpl.colormaps['viridis']"
   ]
  },
  {
   "cell_type": "code",
   "execution_count": null,
   "id": "63ef1ac5",
   "metadata": {},
   "outputs": [],
   "source": [
    "dir(pl)"
   ]
  },
  {
   "cell_type": "code",
   "execution_count": null,
   "id": "bf3058ad",
   "metadata": {},
   "outputs": [],
   "source": [
    "help(pl.add_mesh)"
   ]
  },
  {
   "cell_type": "code",
   "execution_count": null,
   "id": "3c0db47f",
   "metadata": {},
   "outputs": [],
   "source": [
    "help(pv.Plotter())"
   ]
  },
  {
   "cell_type": "markdown",
   "id": "173737c7",
   "metadata": {},
   "source": [
    "## plot brain and Save it as PNG"
   ]
  },
  {
   "cell_type": "markdown",
   "id": "bb8069b0",
   "metadata": {},
   "source": [
    "### Clip the data \"outliers\""
   ]
  },
  {
   "cell_type": "code",
   "execution_count": null,
   "id": "2097c84e",
   "metadata": {},
   "outputs": [],
   "source": []
  },
  {
   "cell_type": "code",
   "execution_count": null,
   "id": "a97c855c",
   "metadata": {},
   "outputs": [],
   "source": []
  },
  {
   "cell_type": "code",
   "execution_count": null,
   "id": "9feec537",
   "metadata": {},
   "outputs": [],
   "source": []
  },
  {
   "cell_type": "code",
   "execution_count": null,
   "id": "d2e7708d",
   "metadata": {},
   "outputs": [],
   "source": [
    "i = 0\n",
    "mesh = mses1[0]\n",
    "pl = pv.Plotter()\n",
    "actor = pl.add_mesh(mesh,cmap=mpl.colormaps['inferno'])\n",
    "\n",
    "pl.set_background('white', all_renderers=False)\n",
    "pl.remove_scalar_bar()\n",
    "pl.set_viewup([0,1,0])\n",
    "pl._image_scale = 2\n",
    "if i == 3:\n",
    "    pl.view_xz()\n",
    "pl.remove_legend()\n",
    "pl.remove_floors()\n",
    "pl.remove_bounding_box()\n",
    "pl.remove_bounds_axes()\n",
    "pl.update_bounds_axes()\n",
    "pl.show()\n",
    "pl.close()"
   ]
  },
  {
   "cell_type": "markdown",
   "id": "f1ca4d44",
   "metadata": {},
   "source": [
    "## Pl save graphic"
   ]
  },
  {
   "cell_type": "code",
   "execution_count": null,
   "id": "13a46272",
   "metadata": {},
   "outputs": [],
   "source": [
    "pl.save_graphic(m + '_' + models[i] + '_' + '.svg')"
   ]
  },
  {
   "cell_type": "markdown",
   "id": "4acd1b72",
   "metadata": {},
   "source": [
    "## PL save as HTML"
   ]
  },
  {
   "cell_type": "code",
   "execution_count": null,
   "id": "c7f464b4",
   "metadata": {},
   "outputs": [],
   "source": []
  },
  {
   "cell_type": "code",
   "execution_count": null,
   "id": "9eaa76c0",
   "metadata": {},
   "outputs": [],
   "source": [
    "from potrace import Bitmap\n",
    "\n",
    "# Initialize data, for example convert a PIL image to a numpy array\n",
    "# [...]\n",
    "\n",
    "bitmap = Bitmap(data)\n",
    "path = bitmap.trace()"
   ]
  },
  {
   "cell_type": "code",
   "execution_count": null,
   "id": "07100d8f",
   "metadata": {},
   "outputs": [],
   "source": [
    "pl.save_graphic('test.svg', \"\", raster=False)"
   ]
  },
  {
   "cell_type": "code",
   "execution_count": null,
   "id": "563a6081",
   "metadata": {},
   "outputs": [],
   "source": [
    "pl.export_obj('try.obj')"
   ]
  },
  {
   "cell_type": "code",
   "execution_count": null,
   "id": "3de77e5a",
   "metadata": {},
   "outputs": [],
   "source": []
  },
  {
   "cell_type": "code",
   "execution_count": null,
   "id": "92fe19e7",
   "metadata": {},
   "outputs": [],
   "source": []
  },
  {
   "cell_type": "code",
   "execution_count": null,
   "id": "dd2a80dd",
   "metadata": {
    "scrolled": false
   },
   "outputs": [],
   "source": [
    "# Test to get model 4 position.\n",
    "\n",
    "\n",
    "m = ''\n",
    "\n",
    "for i in range(5):\n",
    "    pl = pv.Plotter()\n",
    "    mesh = mses1[i]\n",
    "    actor = pl.add_mesh(mesh,cmap=mpl.colormaps['inferno'])\n",
    "    pl.set_background('white', all_renderers=False)\n",
    "    pl.remove_scalar_bar()\n",
    "    pl.set_viewup([0,1,0])\n",
    "    pl._image_scale = 2\n",
    "    if i == 3:\n",
    "        pl.view_xz()\n",
    "    pl.remove_legend()\n",
    "    pl.remove_floors()\n",
    "    pl.remove_bounding_box()\n",
    "    pl.remove_bounds_axes()\n",
    "#     pl.add_text(\"lsdf\",position='lower_left',color='black')\n",
    "    pl.update_bounds_axes()\n",
    "#     pl.show_bounds(axes_ranges=[0, .1, 0, 1, 0, 2], show_zlabels=True)\n",
    "    pl.save_graphic(m + '_' + models[i] + '_' + '.svg')\n",
    "    \n",
    "pl.show(interactive=False)\n",
    "\n",
    "\n",
    "# pv.global_theme.transparent_background = True\n",
    "# _ = pl.add_mesh(mesh,cmap=mpl.colormaps['inferno'])\n",
    "\n",
    "# pl.set_viewup([0,1,0])\n",
    "# pl.set_background('FFFFFFFF')\n",
    "# pl.remove_scalar_bar()\n",
    "# pl.remove_legend()\n",
    "# pl.remove_floors()\n",
    "# # pl.show_boundsounds()\n",
    "# pl.view_xz()\n",
    "# pl.show()\n",
    "# pl.save_graphic(m + '_' + models[i] + '_' + '.svg')"
   ]
  },
  {
   "cell_type": "code",
   "execution_count": null,
   "id": "b8e3c4b5",
   "metadata": {},
   "outputs": [],
   "source": [
    "from svgutils.compose import *\n",
    "\n",
    "svggg = 'gpuMemoryUsed.svg'\n",
    "Figure(\"16cm\", \"6.5cm\", \n",
    "        Panel(\n",
    "              SVG(svggg),\n",
    "              Text(\"A\", 25, 20, size=12, weight='bold')\n",
    "             ),\n",
    "        Panel(\n",
    "              SVG(svggg).scale(0.5),\n",
    "              Text(\"B\", 25, 20, size=12, weight='bold')\n",
    "             ).move(280, 0)\n",
    "        ).save(\"fig_final_compose.svg\")"
   ]
  },
  {
   "cell_type": "code",
   "execution_count": null,
   "id": "a84d7bd3",
   "metadata": {},
   "outputs": [],
   "source": [
    "import svgutils.compose as sc\n",
    "from IPython.display import SVG # /!\\ note the 'SVG' function also in svgutils.compose\n",
    "import numpy as np\n",
    "svg1= 'white_corticalflow_.svg'\n",
    "svg2 = 'white_deepcsr_.svg'\n",
    "\n",
    "\n",
    "# drawing a random figure on top of your SVG\n",
    "# here starts the assembling using svgutils \n",
    "\n",
    "\n",
    "sc.Figure(\"16cm\", \"8cm\", \n",
    "    sc.SVG(svg1) \n",
    "    )"
   ]
  },
  {
   "cell_type": "code",
   "execution_count": null,
   "id": "6f19fb1f",
   "metadata": {},
   "outputs": [],
   "source": []
  },
  {
   "cell_type": "markdown",
   "id": "4f3fa4d3",
   "metadata": {},
   "source": [
    "## Testing Trimesh Save Mesh"
   ]
  },
  {
   "cell_type": "code",
   "execution_count": 1,
   "id": "5d2bed03",
   "metadata": {},
   "outputs": [],
   "source": [
    "import trimesh"
   ]
  },
  {
   "cell_type": "code",
   "execution_count": 2,
   "id": "5f9396ed",
   "metadata": {},
   "outputs": [
    {
     "name": "stdout",
     "output_type": "stream",
     "text": [
      "Help on function export_mesh in module trimesh.exchange.export:\n",
      "\n",
      "export_mesh(mesh, file_obj, file_type=None, resolver=None, **kwargs)\n",
      "    Export a Trimesh object to a file- like object, or to a filename\n",
      "    \n",
      "    Parameters\n",
      "    -----------\n",
      "    file_obj : str, file-like\n",
      "      Where should mesh be exported to\n",
      "    file_type : str or None\n",
      "      Represents file type (eg: 'stl')\n",
      "    resolver : None or trimesh.resolvers.Resolver\n",
      "      Resolver to write referenced assets to\n",
      "    \n",
      "    Returns\n",
      "    ----------\n",
      "    exported : bytes or str\n",
      "      Result of exporter\n",
      "\n"
     ]
    }
   ],
   "source": [
    " help(trimesh.exchange.export.export_mesh)"
   ]
  },
  {
   "cell_type": "code",
   "execution_count": null,
   "id": "f32f8489",
   "metadata": {},
   "outputs": [],
   "source": []
  },
  {
   "cell_type": "code",
   "execution_count": null,
   "id": "b03fcd77",
   "metadata": {},
   "outputs": [],
   "source": []
  },
  {
   "cell_type": "code",
   "execution_count": null,
   "id": "f864bac2",
   "metadata": {},
   "outputs": [],
   "source": [
    "pl.save_graphic('h.svg',raster=False,painter=True)"
   ]
  },
  {
   "cell_type": "code",
   "execution_count": null,
   "id": "5e55494c",
   "metadata": {},
   "outputs": [],
   "source": [
    "pl._save_image(pl.image,)"
   ]
  },
  {
   "cell_type": "code",
   "execution_count": null,
   "id": "ba9e5b39",
   "metadata": {},
   "outputs": [],
   "source": [
    "pl.image"
   ]
  },
  {
   "cell_type": "code",
   "execution_count": null,
   "id": "e029222c",
   "metadata": {},
   "outputs": [],
   "source": []
  },
  {
   "cell_type": "code",
   "execution_count": null,
   "id": "54d8be1f",
   "metadata": {},
   "outputs": [],
   "source": [
    "dir(pl)"
   ]
  },
  {
   "cell_type": "code",
   "execution_count": null,
   "id": "3a59412b",
   "metadata": {},
   "outputs": [],
   "source": [
    "os.listdir('./showSVG')"
   ]
  },
  {
   "cell_type": "code",
   "execution_count": null,
   "id": "32718ff9",
   "metadata": {},
   "outputs": [],
   "source": [
    "pl.save_graphic('pial' + '.svg')"
   ]
  },
  {
   "cell_type": "code",
   "execution_count": null,
   "id": "beef3a6a",
   "metadata": {},
   "outputs": [],
   "source": [
    "pl._image_scale = 2"
   ]
  },
  {
   "cell_type": "code",
   "execution_count": null,
   "id": "eec02762",
   "metadata": {},
   "outputs": [],
   "source": [
    "help(pl.camera_set)"
   ]
  },
  {
   "cell_type": "code",
   "execution_count": null,
   "id": "3956e011",
   "metadata": {},
   "outputs": [],
   "source": [
    "dir(pl)"
   ]
  },
  {
   "cell_type": "code",
   "execution_count": null,
   "id": "f992ffbc",
   "metadata": {},
   "outputs": [],
   "source": [
    "pl.add_text(0,10,'sdf')"
   ]
  },
  {
   "cell_type": "code",
   "execution_count": null,
   "id": "fc87c77e",
   "metadata": {},
   "outputs": [],
   "source": [
    "pl.add_text(\"lsdf\",position='lower_left')"
   ]
  },
  {
   "cell_type": "code",
   "execution_count": null,
   "id": "89254e8e",
   "metadata": {},
   "outputs": [],
   "source": [
    "help(pl.add_text)"
   ]
  },
  {
   "cell_type": "code",
   "execution_count": null,
   "id": "75afb563",
   "metadata": {},
   "outputs": [],
   "source": [
    "help(pl.update_bounds_axes)"
   ]
  },
  {
   "cell_type": "markdown",
   "id": "71cff469",
   "metadata": {},
   "source": [
    "## test svgutil"
   ]
  },
  {
   "cell_type": "code",
   "execution_count": null,
   "id": "ae43a61f",
   "metadata": {},
   "outputs": [],
   "source": [
    " "
   ]
  },
  {
   "cell_type": "code",
   "execution_count": null,
   "id": "fd79fc12",
   "metadata": {},
   "outputs": [],
   "source": [
    "pialfiles"
   ]
  },
  {
   "cell_type": "code",
   "execution_count": null,
   "id": "64793e25",
   "metadata": {},
   "outputs": [],
   "source": [
    "whitefiles"
   ]
  },
  {
   "cell_type": "code",
   "execution_count": null,
   "id": "732f8ae4",
   "metadata": {},
   "outputs": [],
   "source": [
    "models1"
   ]
  },
  {
   "cell_type": "code",
   "execution_count": null,
   "id": "1a432b94",
   "metadata": {},
   "outputs": [],
   "source": [
    "models2"
   ]
  },
  {
   "cell_type": "markdown",
   "id": "f2bad3c3",
   "metadata": {},
   "source": [
    "### Plot Pial"
   ]
  },
  {
   "cell_type": "code",
   "execution_count": 25,
   "id": "ebdd8a99",
   "metadata": {},
   "outputs": [],
   "source": [
    "import svgutils.transform as sg\n",
    "import sys \n",
    "\n",
    "#create new SVG figure\n",
    "figure = sg.SVGFigure(\"20cm\", \"6.5cm\")\n",
    "\n",
    "# load matpotlib-generated figures\n",
    "prefix = './pialpng/svg/1/1-'\n",
    "# models = models1\n",
    "\n",
    "start = 150\n",
    "x0 = 100 + start\n",
    "xend = 1000 + start\n",
    "xpos = list(np.linspace(x0,xend,6))\n",
    "\n",
    "plots = []\n",
    "txts = []\n",
    "\n",
    "modelnames = ['CortexODE','CorticalFlow','DeepCSR','PialNN','Vox2Cortex']\n",
    "scale = .1\n",
    "\n",
    "for i in range(5):\n",
    "    fig = sg.fromfile(prefix + str(i+1) + '.svg')\n",
    "    plot = fig.getroot()\n",
    "    plot.rotate(90)\n",
    "    plot.moveto(xpos[i], 0, scale, scale)\n",
    "    plots.append(plot)\n",
    "    \n",
    "prefix = './whitepng/svg/2/2-'\n",
    "for i in range(5):\n",
    "    fig = sg.fromfile(prefix + str(i+1) + '.svg')\n",
    "    plot = fig.getroot()\n",
    "    plot.rotate(90)\n",
    "    plot.moveto(xpos[i], 200, scale, scale)\n",
    "    plots.append(plot)\n",
    "\n",
    "\n",
    "sgh = 240\n",
    "delta = -150\n",
    "\n",
    "xpos = list(np.linspace(x0,xend+20,6))\n",
    "\n",
    "txts = []\n",
    "for i in range(5):\n",
    "    if i!=3:\n",
    "        txts.append(sg.TextElement(xpos[i] + delta,sgh, modelnames[i], size=12, weight=\"bold\"))\n",
    "        \n",
    "txts.append(sg.TextElement(xpos[3] + delta,sgh-10, modelnames[3]+'*', size=12, weight=\"bold\"))\n",
    "txts.append(sg.TextElement(xpos[3] + delta,sgh+10, 'Topofit*', size=12, weight=\"bold\"))\n",
    "\n",
    "txts.append(sg.TextElement(10,120, 'Pial', size=12, weight=\"bold\"))\n",
    "txts.append(sg.TextElement(10,300, 'White', size=12, weight=\"bold\"))\n",
    "\n",
    "# legend\n",
    "\n",
    "scale = .4\n",
    "x = 560\n",
    "y = 440\n",
    "fig = sg.fromfile('legend.svg')\n",
    "plot = fig.getroot()\n",
    "plot.moveto(x, y,scale,scale)\n",
    "plots.append(plot)\n",
    "txts.append(sg.TextElement(x+140 , y - 10 , 'Vertex Distance / Mesh Diag (%)', size=12))\n",
    "\n",
    "# append plots and labels to figure\n",
    "figure.append(txts)\n",
    "figure.append(plots)\n",
    "\n",
    "\n",
    "# save generated SVG files\n",
    "figure.save(\"fig_final02.svg\")"
   ]
  },
  {
   "cell_type": "code",
   "execution_count": 23,
   "id": "8f0a5c2e",
   "metadata": {},
   "outputs": [
    {
     "ename": "TypeError",
     "evalue": "'SVGFigure' object is not callable",
     "output_type": "error",
     "traceback": [
      "\u001b[0;31m---------------------------------------------------------------------------\u001b[0m",
      "\u001b[0;31mTypeError\u001b[0m                                 Traceback (most recent call last)",
      "\u001b[0;32m/var/folders/s2/f9_gdwgn7hdcrnctxg25f4th0000gn/T/ipykernel_80493/2772576956.py\u001b[0m in \u001b[0;36m<module>\u001b[0;34m\u001b[0m\n\u001b[1;32m      1\u001b[0m \u001b[0;32mimport\u001b[0m \u001b[0mmatplotlib\u001b[0m\u001b[0;34m.\u001b[0m\u001b[0mpyplot\u001b[0m \u001b[0;32mas\u001b[0m \u001b[0mplt\u001b[0m\u001b[0;34m\u001b[0m\u001b[0;34m\u001b[0m\u001b[0m\n\u001b[0;32m----> 2\u001b[0;31m \u001b[0mfigure\u001b[0m\u001b[0;34m(\u001b[0m\u001b[0;34m)\u001b[0m\u001b[0;34m\u001b[0m\u001b[0;34m\u001b[0m\u001b[0m\n\u001b[0m",
      "\u001b[0;31mTypeError\u001b[0m: 'SVGFigure' object is not callable"
     ]
    }
   ],
   "source": [
    "import matplotlib.pyplot as plt\n",
    "figure()"
   ]
  },
  {
   "cell_type": "markdown",
   "id": "4df05286",
   "metadata": {},
   "source": [
    "### Plot White"
   ]
  },
  {
   "cell_type": "code",
   "execution_count": null,
   "id": "f00b5132",
   "metadata": {},
   "outputs": [],
   "source": [
    "#create new SVG figure\n",
    "fig = sg.SVGFigure(\"20cm\", \"6.5cm\")\n",
    "\n",
    "prefix = 'white'\n",
    "# load matpotlib-generated figures\n",
    "fig1 = sg.fromfile(prefix + '_cortexode_.svg')\n",
    "fig2 = sg.fromfile(prefix + '_corticalflow_.svg')\n",
    "fig3 = sg.fromfile(prefix + '_deepcsr_.svg')\n",
    "fig4 = sg.fromfile(prefix + '_topofit_.svg')\n",
    "fig5 = sg.fromfile(prefix + '_vox2cortex_.svg')\n",
    "\n",
    "# get the plot objects\n",
    "plot1 = fig1.getroot()\n",
    "plot2 = fig2.getroot()\n",
    "plot3 = fig3.getroot()\n",
    "plot4 = fig4.getroot()\n",
    "plot5 = fig5.getroot()\n",
    "\n",
    "x0 = -50\n",
    "xend = 1500\n",
    "xpos = list(np.linspace(x0,xend,6))\n",
    "\n",
    "plot1.moveto(xpos[0], 0)\n",
    "plot2.moveto(xpos[1], 0)\n",
    "plot3.moveto(xpos[2], 0)\n",
    "plot4.moveto(xpos[3], 0)\n",
    "plot5.moveto(xpos[4], 0)\n",
    "\n",
    "\n",
    "\n",
    "# add text labels\n",
    "sgh = 120\n",
    "delta = 30\n",
    "txt0 = sg.TextElement(25 + delta,sgh, \"a\", size=12, weight=\"bold\")\n",
    "# txt2 = sg.TextElement(305 + delta,sgh, \"b\", size=12, weight=\"bold\")\n",
    "# txt3 = sg.TextElement(605 + delta,sgh, \"c\", size=12, weight=\"bold\")\n",
    "# txt4 = sg.TextElement(905 + delta,sgh, \"d\", size=12, weight=\"bold\")\n",
    "# txt5 = sg.TextElement(1205 + delta, sgh, \"e\", size=12, weight=\"bold\")\n",
    "\n",
    "sgh = 480\n",
    "delta = 90\n",
    "x0 = 25\n",
    "xend = 1500\n",
    "interval = 250\n",
    "xpos = list(np.linspace(x0,xend,6))\n",
    "\n",
    "models = ['CortexODE','CorticalFlow','DeepCSR','Topofit','Vox2Cortex']\n",
    "\n",
    "txt1 = sg.TextElement(xpos[0] + delta,sgh, models[0], size=12, weight=\"bold\")\n",
    "txt2 = sg.TextElement(xpos[1] + delta,sgh, models[1], size=12, weight=\"bold\")\n",
    "txt3 = sg.TextElement(xpos[2] + delta,sgh, models[2], size=12, weight=\"bold\")\n",
    "txt4 = sg.TextElement(xpos[3] + delta,sgh, models[3], size=12, weight=\"bold\")\n",
    "txt5 = sg.TextElement(xpos[4] + delta,sgh, models[4], size=12, weight=\"bold\")\n",
    "\n",
    "# append plots and labels to figure\n",
    "fig.append([plot1, plot2,plot3,plot4,plot5])\n",
    "fig.append([txt0, txt1, txt2, txt3, txt4, txt5])\n",
    "\n",
    "# save generated SVG files\n",
    "fig.save(\"fig_final_white.svg\")"
   ]
  },
  {
   "cell_type": "markdown",
   "id": "75dbec41",
   "metadata": {},
   "source": [
    "## Convert PNG to SVG"
   ]
  },
  {
   "cell_type": "code",
   "execution_count": null,
   "id": "b22b5ebf",
   "metadata": {},
   "outputs": [],
   "source": [
    "whitefiles"
   ]
  },
  {
   "cell_type": "code",
   "execution_count": null,
   "id": "5320ac10",
   "metadata": {},
   "outputs": [],
   "source": [
    "!pip install potrace"
   ]
  },
  {
   "cell_type": "code",
   "execution_count": null,
   "id": "f26e2eb5",
   "metadata": {},
   "outputs": [],
   "source": [
    "from potrace import Bitmap\n",
    "\n",
    "from PIL import Image\n",
    "import numpy as np\n",
    "\n",
    "img = Image.open('whitevox2cortex.png')\n",
    "data = np.array(img)\n",
    "bitmap = Bitmap(data)\n",
    "path = bitmap.trace()"
   ]
  },
  {
   "cell_type": "markdown",
   "id": "073c209e",
   "metadata": {},
   "source": [
    "## trim svg"
   ]
  },
  {
   "cell_type": "code",
   "execution_count": null,
   "id": "440c2065",
   "metadata": {},
   "outputs": [],
   "source": [
    "os.listdir('./showSVG')"
   ]
  },
  {
   "cell_type": "code",
   "execution_count": null,
   "id": "befdb3a7",
   "metadata": {},
   "outputs": [],
   "source": [
    "import vpype_cli as vp\n",
    "vp.execute(\"read ./showSVG/pial_cortexode_.svg trim 30 20 write output.svg\")"
   ]
  },
  {
   "cell_type": "code",
   "execution_count": null,
   "id": "4d043caa",
   "metadata": {},
   "outputs": [],
   "source": []
  },
  {
   "cell_type": "code",
   "execution_count": null,
   "id": "b3a28f67",
   "metadata": {},
   "outputs": [],
   "source": []
  },
  {
   "cell_type": "code",
   "execution_count": null,
   "id": "d94a6b75",
   "metadata": {},
   "outputs": [],
   "source": []
  },
  {
   "cell_type": "code",
   "execution_count": null,
   "id": "f1fc7bff",
   "metadata": {},
   "outputs": [],
   "source": [
    "dir(pl)"
   ]
  },
  {
   "cell_type": "markdown",
   "id": "d0e076f1",
   "metadata": {},
   "source": [
    "## save 1 image"
   ]
  },
  {
   "cell_type": "code",
   "execution_count": null,
   "id": "258bd6c4",
   "metadata": {},
   "outputs": [],
   "source": []
  },
  {
   "cell_type": "code",
   "execution_count": null,
   "id": "8246858c",
   "metadata": {
    "scrolled": false
   },
   "outputs": [],
   "source": [
    "\n",
    "i = 0\n",
    "mesh = mses1[0]\n",
    "pl = pv.Plotter(window_size=(2000,2000),off_screen=False)\n",
    "\n",
    "pv.global_theme.transparent_background = True\n",
    "_ = pl.add_mesh(mesh,cmap=mpl.colormaps['inferno'])\n",
    "\n",
    "pl.set_viewup([0,1,0])\n",
    "pl.set_background('white')\n",
    "pl.remove_scalar_bar()\n",
    "pl.remove_legend()\n",
    "pl.remove_floors()\n",
    "if i == 3 and m=='pial':\n",
    "    pl.view_xz()\n",
    "# pl.show_boundsounds()\n",
    "pl.show()\n",
    "# filename = m + '_' + models[i] + '_' + '.png'"
   ]
  },
  {
   "cell_type": "markdown",
   "id": "304974e7",
   "metadata": {},
   "source": [
    "## Save SVG"
   ]
  },
  {
   "cell_type": "code",
   "execution_count": null,
   "id": "689f8fca",
   "metadata": {},
   "outputs": [],
   "source": [
    "def save_svg(m = 'pial', models = models1, mses = mses1):\n",
    "    datas = []\n",
    "    for i in range(5):\n",
    "        mesh = mses[i]\n",
    "        pl = pv.Plotter(window_size=(2000,2000))\n",
    "        \n",
    "        pv.global_theme.transparent_background = True\n",
    "        _ = pl.add_mesh(mesh,cmap=mpl.colormaps['inferno'])\n",
    "\n",
    "        pl.set_viewup([0,1,0])\n",
    "        pl.set_background('white')\n",
    "        pl.remove_scalar_bar()\n",
    "        pl.remove_legend()\n",
    "        pl.remove_floors()\n",
    "        if i == 3 and m=='pial':\n",
    "            pl.view_xz()\n",
    "        # pl.show_boundsounds()\n",
    "        pl.show()\n",
    "        filename = m + '_' + models[i] + '_' + '.png'\n",
    "        data = pl.screenshot(filename, transparent_background=True, return_img=True,scale=4)\n",
    "    return data\n",
    "#         pl.save_graphic(m + '_' + models[i] + '_' + '.png')"
   ]
  },
  {
   "cell_type": "code",
   "execution_count": null,
   "id": "f030ee33",
   "metadata": {},
   "outputs": [],
   "source": [
    "dir(pl)"
   ]
  },
  {
   "cell_type": "code",
   "execution_count": null,
   "id": "f9026b26",
   "metadata": {},
   "outputs": [],
   "source": [
    "pl.save_graphic('test1.tex')"
   ]
  },
  {
   "cell_type": "code",
   "execution_count": null,
   "id": "e8489556",
   "metadata": {},
   "outputs": [],
   "source": [
    "help(pl.save_graphic)"
   ]
  },
  {
   "cell_type": "code",
   "execution_count": null,
   "id": "15d36fc6",
   "metadata": {
    "scrolled": false
   },
   "outputs": [],
   "source": [
    "save_svg()"
   ]
  },
  {
   "cell_type": "markdown",
   "id": "3d617009",
   "metadata": {},
   "source": [
    "### check pl.screenshot for png"
   ]
  },
  {
   "cell_type": "code",
   "execution_count": null,
   "id": "e34a1afb",
   "metadata": {},
   "outputs": [],
   "source": [
    "data = pl.screenshot(filename, transparent_background=True, return_img=True, window_size=(600,1000),scale=4)"
   ]
  },
  {
   "cell_type": "code",
   "execution_count": null,
   "id": "7f001377",
   "metadata": {},
   "outputs": [],
   "source": [
    "save_svg('white',models2,mses2)"
   ]
  },
  {
   "cell_type": "code",
   "execution_count": null,
   "id": "f911ad02",
   "metadata": {},
   "outputs": [],
   "source": [
    "dir(pl)"
   ]
  },
  {
   "cell_type": "code",
   "execution_count": null,
   "id": "aeba682c",
   "metadata": {},
   "outputs": [],
   "source": [
    "import vpype_cli as vp\n",
    "vp.execute(\"read white_deepcsr_.svg translate 300 400 trim 30 20 write output.svg\")\n",
    "# vp.execute(\"read  crop 0cm 1cm 1cm 2cm write output.svg\")"
   ]
  },
  {
   "cell_type": "code",
   "execution_count": null,
   "id": "adeb1b0d",
   "metadata": {},
   "outputs": [],
   "source": [
    "import svgwrite\n"
   ]
  },
  {
   "cell_type": "code",
   "execution_count": null,
   "id": "f082deb6",
   "metadata": {},
   "outputs": [],
   "source": []
  },
  {
   "cell_type": "code",
   "execution_count": null,
   "id": "2119272e",
   "metadata": {},
   "outputs": [],
   "source": [
    "# Load the SVG file from disk\n",
    "drawing = svgwrite.Drawing(filename=svg1)\n",
    "\n",
    "# Do something with the drawing object, e.g. add shapes or text\n",
    "\n",
    "# Save the modified SVG file to disk\n",
    "drawing.save()"
   ]
  },
  {
   "cell_type": "code",
   "execution_count": null,
   "id": "0ca72388",
   "metadata": {},
   "outputs": [],
   "source": []
  },
  {
   "cell_type": "code",
   "execution_count": null,
   "id": "ff499db2",
   "metadata": {},
   "outputs": [],
   "source": []
  },
  {
   "cell_type": "code",
   "execution_count": null,
   "id": "1dbe7902",
   "metadata": {},
   "outputs": [],
   "source": [
    "dir(pl)\n"
   ]
  },
  {
   "cell_type": "code",
   "execution_count": null,
   "id": "bda39ab0",
   "metadata": {},
   "outputs": [],
   "source": [
    "svg1 = \"pial_vox2cortex_.svg\"\n",
    "from svgpathtools import svg2paths, wsvg\n",
    "\n",
    "# Load the SVG file and extract the paths\n",
    "paths, attributes = svg2paths(svg1)\n",
    "\n",
    "# Define the crop box (left, top, right, bottom)\n",
    "crop_box = (100, 100, 400, 400)\n",
    "\n",
    "# Crop each path using the crop box\n",
    "cropped_paths = [path.crop(crop_box) for path in paths]\n",
    "\n",
    "# Save the cropped paths to a new SVG file\n",
    "wsvg(cropped_paths, filename='output.svg')\n"
   ]
  },
  {
   "cell_type": "code",
   "execution_count": null,
   "id": "d5fef8d6",
   "metadata": {},
   "outputs": [],
   "source": [
    "svg1 = \"pial_vox2cortex_.svg\"\n",
    "from svgpathtools import svg2paths, wsvg, path\n",
    "paths, attributes, svg_attributes = svg2paths(svg1)\n",
    "xmin, ymin, xmax, ymax = 100,100,200,200\n"
   ]
  },
  {
   "cell_type": "code",
   "execution_count": null,
   "id": "45ac1f22",
   "metadata": {},
   "outputs": [],
   "source": [
    "attributes"
   ]
  },
  {
   "cell_type": "code",
   "execution_count": null,
   "id": "c1bd4c5d",
   "metadata": {},
   "outputs": [],
   "source": [
    "svg_attributes"
   ]
  },
  {
   "cell_type": "code",
   "execution_count": null,
   "id": "c9519204",
   "metadata": {
    "scrolled": true
   },
   "outputs": [],
   "source": [
    "paths"
   ]
  },
  {
   "cell_type": "code",
   "execution_count": null,
   "id": "148fa134",
   "metadata": {},
   "outputs": [],
   "source": [
    "new_paths = []\n",
    "for p in paths:\n",
    "    if p.bbox()[0] >= xmin and p.bbox()[1] >= ymin and p.bbox()[2] <= xmax and p.bbox()[3] <= ymax:\n",
    "        new_paths.append(p)\n",
    "\n",
    "wsvg(new_paths, filename='cropped_' + svg1)"
   ]
  },
  {
   "cell_type": "code",
   "execution_count": null,
   "id": "dd24a0fe",
   "metadata": {},
   "outputs": [],
   "source": [
    "from svgutils.compose import *\n",
    "from svgutils.transform import SVGFigure\n",
    "\n",
    "# Define the size of the final SVG figure\n",
    "width = 800\n",
    "height = 600\n",
    "\n",
    "# Create a new SVG figure with the specified size\n",
    "fig = SVGFigure(width, height)\n",
    "\n",
    "# Load the SVG files to be combined\n",
    "svg1 = SVG(svg1)\n",
    "svg2 = SVG(svg2)\n",
    "\n",
    "# Create a new SVG object by stacking the individual SVGs vertically\n",
    "combined_svg = vstack(svg1, svg2)\n",
    "\n",
    "# Add the combined SVG object to the figure\n",
    "fig.append(combined_svg)\n",
    "\n",
    "# Save the figure to a new SVG file\n",
    "fig.save('path/to/new/file.svg')\n",
    "\n"
   ]
  },
  {
   "cell_type": "code",
   "execution_count": null,
   "id": "919f2465",
   "metadata": {},
   "outputs": [],
   "source": []
  },
  {
   "cell_type": "code",
   "execution_count": null,
   "id": "ed7658df",
   "metadata": {},
   "outputs": [],
   "source": []
  },
  {
   "cell_type": "code",
   "execution_count": null,
   "id": "7461f530",
   "metadata": {},
   "outputs": [],
   "source": []
  },
  {
   "cell_type": "code",
   "execution_count": null,
   "id": "e7def21e",
   "metadata": {},
   "outputs": [],
   "source": [
    "import cv2"
   ]
  },
  {
   "cell_type": "code",
   "execution_count": null,
   "id": "9fa6a71c",
   "metadata": {},
   "outputs": [],
   "source": [
    "from matplotlib import pyplot as plt\n",
    "  \n",
    "# create figure\n",
    "fig = plt.figure(figsize=(10, 7))\n",
    "  \n",
    "# setting values to rows and column variables\n",
    "rows = 2\n",
    "columns = 2\n",
    "  \n",
    "# reading images\n",
    "Image1 = cv2.imread('A.svg')\n",
    "Image2 = cv2.imread('A1.svg')\n",
    "Image3 = cv2.imread('A2.svg')\n",
    "Image4 = cv2.imread('A3.svg')\n",
    "  \n",
    "# Adds a subplot at the 1st position\n",
    "fig.add_subplot(rows, columns, 1)\n",
    "  \n",
    "# showing image\n",
    "plt.imshow(Image1)\n",
    "plt.axis('off')\n",
    "plt.title(\"First\")\n",
    "  \n",
    "# Adds a subplot at the 2nd position\n",
    "fig.add_subplot(rows, columns, 2)\n",
    "  \n",
    "# showing image\n",
    "plt.imshow(Image2)\n",
    "plt.axis('off')\n",
    "plt.title(\"Second\")\n",
    "  \n",
    "# Adds a subplot at the 3rd position\n",
    "fig.add_subplot(rows, columns, 3)\n",
    "  \n",
    "# showing image\n",
    "plt.imshow(Image3)\n",
    "plt.axis('off')\n",
    "plt.title(\"Third\")\n",
    "  \n",
    "# Adds a subplot at the 4th position\n",
    "fig.add_subplot(rows, columns, 4)\n",
    "  \n",
    "# showing image\n",
    "plt.imshow(Image4)\n",
    "plt.axis('off')\n",
    "plt.title(\"Fourth\")"
   ]
  },
  {
   "cell_type": "code",
   "execution_count": null,
   "id": "126a1541",
   "metadata": {},
   "outputs": [],
   "source": []
  },
  {
   "cell_type": "code",
   "execution_count": null,
   "id": "0d75f91d",
   "metadata": {},
   "outputs": [],
   "source": []
  },
  {
   "cell_type": "code",
   "execution_count": null,
   "id": "8151b63d",
   "metadata": {},
   "outputs": [],
   "source": []
  },
  {
   "cell_type": "code",
   "execution_count": null,
   "id": "46c1642d",
   "metadata": {},
   "outputs": [],
   "source": []
  },
  {
   "cell_type": "code",
   "execution_count": null,
   "id": "ac5fe9b7",
   "metadata": {},
   "outputs": [],
   "source": [
    "mesh = mses1[0]\n",
    "mapping = np.linspace(mesh['values'].min(), mesh['values'].max(), 256)\n",
    "newcolors = np.empty((256, 4))\n",
    "len(newcolors[mapping >= 1])\n",
    "\n",
    "blue = np.array([12 / 256, 238 / 256, 246 / 256, 1.0])\n",
    "black = np.array([11 / 256, 11 / 256, 11 / 256, 1.0])\n",
    "grey = np.array([189 / 256, 189 / 256, 189 / 256, 1.0])\n",
    "yellow = np.array([255 / 256, 247 / 256, 0 / 256, 1.0])\n",
    "\n",
    "newcolors[mapping >= 1] = [blue] * len(newcolors[mapping >= 1])"
   ]
  },
  {
   "cell_type": "code",
   "execution_count": null,
   "id": "d453eb73",
   "metadata": {},
   "outputs": [],
   "source": [
    "# Define the colors we want to use\n",
    "\n",
    "mapping1 = np.linspace(0, 0.3, 100)\n",
    "mapping2 = np.linspace(0.3, 1, 100)\n",
    "mapping3 = np.linspace(1,2.4, 56)\n",
    "mapping = list(mapping1) + list(mapping2) + list(mapping3)\n",
    "colors = cc.bgy\n",
    "\n",
    "mesh = mses1[0]\n",
    "blue = np.array([12 / 256, 238 / 256, 246 / 256, 1.0])\n",
    "black = np.array([11 / 256, 11 / 256, 11 / 256, 1.0])\n",
    "grey = np.array([189 / 256, 189 / 256, 189 / 256, 1.0])\n",
    "yellow = np.array([255 / 256, 247 / 256, 0 / 256, 1.0])\n",
    "\n",
    "\n",
    "reds = [[244,143,177],[236,64,122],[216,27,96],[136,14,79]]\n",
    "blues = [[144,202,249],[66, 165, 245 ],[25, 118, 210 ],[13, 71, 161]]\n",
    "greens = [[200, 230, 201 ],[129, 199, 132],[76, 175, 80],[46, 125, 50]]\n",
    "\n",
    "reds = [[i[0]/256,i[1]/256, i[2]/256, 1] for i in reds]\n",
    "blues = [[i[0]/256,i[1]/256, i[2]/256, 1] for i in blues]\n",
    "greens = [[i[0]/256,i[1]/256, i[2]/256, 1] for i in greens]\n",
    "\n",
    "# red = np.array([1.0, 0.0, 0.0, 1.0])\n",
    "\n",
    "mapping = np.linspace(mesh['values'].min(), mesh['values'].max(), 256)\n",
    "newcolors = np.empty((256, 4))\n",
    "\n",
    "# 199, 57, 17\n",
    "# n = len(newcolors[.3<mapping < 1]) \n",
    "# print(n)\n",
    "newcolors[mapping >= 1] = 50*[reds[0]] + 50* [reds[1]] + 50*[reds[2]] + 49*[reds[3]]\n",
    "newcolors[mapping < 1] =  [reds[0]]*17 + 10*[blues[0]] + 10* [blues[1]] + 10*[blues[2]] + 10 *[blues[3]]\n",
    "newcolors[mapping < .3] = 4*[greens[0]] + 4*[greens[1]] + 4*[greens[2]] + 5*[greens[3]] \n",
    "\n",
    "my_colormap = ListedColormap(newcolors)\n",
    "\n",
    "# Make the colormap from the listed colors\n",
    "import pyvista as pv\n",
    "pl = pv.Plotter()\n",
    "_ = pl.add_mesh(mesh,cmap=my_colormap)\n",
    "# pl.camera_position([0,1,0])\n",
    "pl.set_viewup([0,1,0])\n",
    "dir(pl)\n",
    "pl.show()\n",
    "\n",
    "# my_colormap = ListedColormap(newcolors)\n",
    "\n",
    "# mesh.plot(scalars='values', cmap=my_colormap)"
   ]
  },
  {
   "cell_type": "code",
   "execution_count": null,
   "id": "72b55927",
   "metadata": {},
   "outputs": [],
   "source": []
  },
  {
   "cell_type": "code",
   "execution_count": null,
   "id": "36abd643",
   "metadata": {},
   "outputs": [],
   "source": [
    "print('Results using get_hausdorff_distance')\n",
    "d"
   ]
  },
  {
   "cell_type": "code",
   "execution_count": null,
   "id": "2c92de5f",
   "metadata": {},
   "outputs": [],
   "source": [
    "arr = ms[1].vertex_scalar_array()\n",
    "print('results using compute_scalar_by_distance_from_another_mesh_per_vertex')\n",
    "print('\\nmin',min(abs(arr)))\n",
    "print('max',max(abs(arr)))\n",
    "print('mean',np.mean(abs(arr)))"
   ]
  },
  {
   "cell_type": "code",
   "execution_count": null,
   "id": "6672028c",
   "metadata": {},
   "outputs": [],
   "source": [
    "d = calc_hd()"
   ]
  },
  {
   "cell_type": "code",
   "execution_count": null,
   "id": "25a552c1",
   "metadata": {},
   "outputs": [],
   "source": [
    "d.values()"
   ]
  },
  {
   "cell_type": "code",
   "execution_count": null,
   "id": "737b072e",
   "metadata": {},
   "outputs": [],
   "source": []
  },
  {
   "cell_type": "code",
   "execution_count": null,
   "id": "eb79617e",
   "metadata": {},
   "outputs": [],
   "source": []
  },
  {
   "cell_type": "code",
   "execution_count": null,
   "id": "66396a2c",
   "metadata": {},
   "outputs": [],
   "source": []
  },
  {
   "cell_type": "code",
   "execution_count": null,
   "id": "0cb411c8",
   "metadata": {},
   "outputs": [],
   "source": []
  },
  {
   "cell_type": "code",
   "execution_count": null,
   "id": "3db8aa43",
   "metadata": {},
   "outputs": [],
   "source": []
  },
  {
   "cell_type": "code",
   "execution_count": null,
   "id": "51d4f615",
   "metadata": {},
   "outputs": [],
   "source": []
  },
  {
   "cell_type": "code",
   "execution_count": null,
   "id": "36b5d46c",
   "metadata": {},
   "outputs": [],
   "source": [
    "t = tmps[0]\n",
    "import numpy as np\n",
    "np.percentile(t, 2)"
   ]
  },
  {
   "cell_type": "code",
   "execution_count": null,
   "id": "c21b44f7",
   "metadata": {},
   "outputs": [],
   "source": [
    "np.percentile(t, 98)"
   ]
  },
  {
   "cell_type": "code",
   "execution_count": null,
   "id": "e6818f02",
   "metadata": {},
   "outputs": [],
   "source": [
    "ms2.compute_scalar_by_distance_from_another_mesh_per_vertex()\n",
    "ms2.compute_color_from_scalar_per_vertex()"
   ]
  },
  {
   "cell_type": "code",
   "execution_count": null,
   "id": "4b628ef3",
   "metadata": {},
   "outputs": [],
   "source": [
    "ms2[0].vertex_color_matrix()"
   ]
  },
  {
   "cell_type": "code",
   "execution_count": null,
   "id": "1578499a",
   "metadata": {},
   "outputs": [],
   "source": [
    "ms2[1].vertex_color_matrix()"
   ]
  },
  {
   "cell_type": "code",
   "execution_count": null,
   "id": "134f4442",
   "metadata": {},
   "outputs": [],
   "source": [
    "ms[2].plot(scalars='values')"
   ]
  },
  {
   "cell_type": "code",
   "execution_count": null,
   "id": "e7b34acb",
   "metadata": {},
   "outputs": [],
   "source": [
    "ms2[1]"
   ]
  },
  {
   "cell_type": "code",
   "execution_count": null,
   "id": "1bcba67d",
   "metadata": {},
   "outputs": [],
   "source": [
    "ms = ms2[1]"
   ]
  },
  {
   "cell_type": "code",
   "execution_count": null,
   "id": "a7d901c3",
   "metadata": {},
   "outputs": [],
   "source": [
    "ms"
   ]
  },
  {
   "cell_type": "code",
   "execution_count": null,
   "id": "3b3578cd",
   "metadata": {},
   "outputs": [],
   "source": [
    "dir(ms)"
   ]
  },
  {
   "cell_type": "code",
   "execution_count": null,
   "id": "ed2e615d",
   "metadata": {},
   "outputs": [],
   "source": [
    "ms2.show_polyscope()"
   ]
  },
  {
   "cell_type": "code",
   "execution_count": null,
   "id": "e550ebc0",
   "metadata": {},
   "outputs": [],
   "source": [
    "len(ms2[1].vertex_scalar_array())"
   ]
  },
  {
   "cell_type": "code",
   "execution_count": null,
   "id": "f7f61836",
   "metadata": {},
   "outputs": [],
   "source": [
    "ms2[1].vertex_color_matrix()"
   ]
  },
  {
   "cell_type": "code",
   "execution_count": null,
   "id": "64c38812",
   "metadata": {},
   "outputs": [],
   "source": [
    "tmp = ms2[1].vertex_scalar_array()\n",
    "max(tmp)"
   ]
  },
  {
   "cell_type": "code",
   "execution_count": null,
   "id": "1bf4db2b",
   "metadata": {},
   "outputs": [],
   "source": [
    "import matplotlib.pyplot as plt"
   ]
  },
  {
   "cell_type": "code",
   "execution_count": null,
   "id": "1438dcc9",
   "metadata": {},
   "outputs": [],
   "source": [
    "plt.hist(tmp)"
   ]
  },
  {
   "cell_type": "code",
   "execution_count": null,
   "id": "bb7fcce1",
   "metadata": {},
   "outputs": [],
   "source": [
    "res = []\n",
    "for i in tmp:\n",
    "    if i < 0:\n",
    "        res.append([1,1,1,1])\n",
    "    else:\n",
    "        res.append([0,0,0,0])\n",
    "        "
   ]
  },
  {
   "cell_type": "code",
   "execution_count": null,
   "id": "743daca6",
   "metadata": {},
   "outputs": [],
   "source": [
    "for mesh in ms2:\n",
    "    mesh.set_color_map()"
   ]
  },
  {
   "cell_type": "code",
   "execution_count": null,
   "id": "d6e8ef78",
   "metadata": {},
   "outputs": [],
   "source": [
    "dir(ml)"
   ]
  },
  {
   "cell_type": "code",
   "execution_count": null,
   "id": "e9cbedaf",
   "metadata": {},
   "outputs": [],
   "source": [
    "print(ml.get_version())"
   ]
  },
  {
   "cell_type": "code",
   "execution_count": null,
   "id": "ce187a2b",
   "metadata": {},
   "outputs": [],
   "source": [
    "ml.apply_colormap"
   ]
  },
  {
   "cell_type": "code",
   "execution_count": null,
   "id": "208f1e6c",
   "metadata": {},
   "outputs": [],
   "source": [
    "dir(ms2[1].vertex_color_matrix())"
   ]
  },
  {
   "cell_type": "code",
   "execution_count": null,
   "id": "02106476",
   "metadata": {},
   "outputs": [],
   "source": []
  }
 ],
 "metadata": {
  "kernelspec": {
   "display_name": "Python 3 (ipykernel)",
   "language": "python",
   "name": "python3"
  },
  "language_info": {
   "codemirror_mode": {
    "name": "ipython",
    "version": 3
   },
   "file_extension": ".py",
   "mimetype": "text/x-python",
   "name": "python",
   "nbconvert_exporter": "python",
   "pygments_lexer": "ipython3",
   "version": "3.9.7"
  },
  "toc": {
   "base_numbering": 1,
   "nav_menu": {},
   "number_sections": true,
   "sideBar": true,
   "skip_h1_title": false,
   "title_cell": "Table of Contents",
   "title_sidebar": "Contents",
   "toc_cell": false,
   "toc_position": {
    "height": "calc(100% - 180px)",
    "left": "10px",
    "top": "150px",
    "width": "384px"
   },
   "toc_section_display": true,
   "toc_window_display": true
  },
  "varInspector": {
   "cols": {
    "lenName": 16,
    "lenType": 16,
    "lenVar": 40
   },
   "kernels_config": {
    "python": {
     "delete_cmd_postfix": "",
     "delete_cmd_prefix": "del ",
     "library": "var_list.py",
     "varRefreshCmd": "print(var_dic_list())"
    },
    "r": {
     "delete_cmd_postfix": ") ",
     "delete_cmd_prefix": "rm(",
     "library": "var_list.r",
     "varRefreshCmd": "cat(var_dic_list()) "
    }
   },
   "types_to_exclude": [
    "module",
    "function",
    "builtin_function_or_method",
    "instance",
    "_Feature"
   ],
   "window_display": false
  }
 },
 "nbformat": 4,
 "nbformat_minor": 5
}
