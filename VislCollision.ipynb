{
 "cells": [
  {
   "cell_type": "markdown",
   "id": "f1039a45",
   "metadata": {},
   "source": [
    "# Get File Folders"
   ]
  },
  {
   "cell_type": "code",
   "execution_count": 193,
   "id": "0ba9b9a4",
   "metadata": {},
   "outputs": [],
   "source": [
    "import matplotlib.pyplot as plt\n",
    "import matplotlib as mpl"
   ]
  },
  {
   "cell_type": "code",
   "execution_count": 20,
   "id": "802354e6",
   "metadata": {},
   "outputs": [
    {
     "data": {
      "text/plain": [
       "['collisions.pickle',\n",
       " 'docker',\n",
       " '.DS_Store',\n",
       " 'VislCollision.ipynb',\n",
       " 'README.md',\n",
       " 'input_mesh.pickle',\n",
       " '.ipynb_checkpoints',\n",
       " '.git',\n",
       " 'backup',\n",
       " 'data',\n",
       " 'saveCollisionMesh.py',\n",
       " 'input_mesh.stl']"
      ]
     },
     "execution_count": 20,
     "metadata": {},
     "output_type": "execute_result"
    }
   ],
   "source": [
    "import os\n",
    "import pickle\n",
    "import trimesh\n",
    "os.listdir()"
   ]
  },
  {
   "cell_type": "code",
   "execution_count": 365,
   "id": "d502b39f",
   "metadata": {},
   "outputs": [
    {
     "data": {
      "text/plain": [
       "['.DS_Store',\n",
       " 'cortexode',\n",
       " 'corticalflow',\n",
       " 'deepcsr',\n",
       " 'modified_svg_pial',\n",
       " 'modified_svg_white',\n",
       " 'pialnn',\n",
       " 'topofit',\n",
       " 'vox2cortex']"
      ]
     },
     "execution_count": 365,
     "metadata": {},
     "output_type": "execute_result"
    }
   ],
   "source": [
    "tmp = os.listdir('data')\n",
    "tmp.sort()\n",
    "tmp"
   ]
  },
  {
   "cell_type": "code",
   "execution_count": 366,
   "id": "75ba1a67",
   "metadata": {},
   "outputs": [
    {
     "data": {
      "text/plain": [
       "['cortexode', 'corticalflow', 'deepcsr', 'pialnn', 'vox2cortex']"
      ]
     },
     "execution_count": 366,
     "metadata": {},
     "output_type": "execute_result"
    }
   ],
   "source": [
    "tmp = []\n",
    "for f in folders1:\n",
    "    if f[0] in ['c','d','p','v']:\n",
    "        tmp.append(f)\n",
    "folders1 = tmp\n",
    "folders1"
   ]
  },
  {
   "cell_type": "code",
   "execution_count": 367,
   "id": "facf5557",
   "metadata": {},
   "outputs": [
    {
     "data": {
      "text/plain": [
       "['cortexode', 'corticalflow', 'deepcsr', 'topofit', 'vox2cortex']"
      ]
     },
     "execution_count": 367,
     "metadata": {},
     "output_type": "execute_result"
    }
   ],
   "source": [
    "tmp = []\n",
    "for f in folders2:\n",
    "    if f[0] in ['c','d','t','v']:\n",
    "        tmp.append(f)\n",
    "folders2 = tmp\n",
    "folders2"
   ]
  },
  {
   "cell_type": "markdown",
   "id": "051006c2",
   "metadata": {},
   "source": [
    "# Get collisions, mesh data"
   ]
  },
  {
   "cell_type": "code",
   "execution_count": 33,
   "id": "cbf3a4a0",
   "metadata": {},
   "outputs": [],
   "source": [
    "def get_collisions_mesh(name):\n",
    "    \n",
    "    input_mesh = trimesh.load(name + '.stl')\n",
    "    \n",
    "    file = name + '.pickle'\n",
    "    with open(file, 'rb') as f:\n",
    "        collisions = pickle.load(f)\n",
    "        \n",
    "    return input_mesh, collisions\n",
    "\n",
    "def run(folders, name, pre = 'backup/'):\n",
    "    input_meshes = []\n",
    "    collisions = []\n",
    "    for folder in folders:\n",
    "        fullname = pre + folder + '/' + name\n",
    "        a, b = get_collisions_mesh(fullname)\n",
    "        input_meshes.append(a)\n",
    "        collisions.append(b)\n",
    "    return input_meshes, collisions"
   ]
  },
  {
   "cell_type": "code",
   "execution_count": 38,
   "id": "4c8c5404",
   "metadata": {},
   "outputs": [],
   "source": [
    "input_mesh1,collisions1 = run(folders1, 'pp')\n",
    "input_mesh2,collisions2 = run(folders2, 'pw')"
   ]
  },
  {
   "cell_type": "code",
   "execution_count": 385,
   "id": "a18d1702",
   "metadata": {},
   "outputs": [
    {
     "name": "stdout",
     "output_type": "stream",
     "text": [
      "pial collision counts:\n",
      "model                collisions samples    ratio\n",
      "cortexode            1687       241848     0.007\n",
      "corticalflow         2089       759936     0.0027\n",
      "deepcsr              0          346036     0.0\n",
      "pialnn               26259      242758     0.1082\n",
      "vox2cortex           2762       84028      0.0329\n",
      "\n",
      "\n",
      "\n",
      "white collision counts\n",
      "model                collisions samples    ratio\n",
      "cortexode            118        241848     0.0005\n",
      "corticalflow         921        759936     0.0012\n",
      "deepcsr              0          408028     0.0\n",
      "topofit              26         327680     0.0001\n",
      "vox2cortex           23         84028      0.0003\n"
     ]
    }
   ],
   "source": [
    "from pprint import pprint\n",
    "\n",
    "print('pial collision counts:')\n",
    "print('model'.ljust(20,' '), 'collisions'.ljust(10,' '),'samples'.ljust(10,' '), 'ratio')\n",
    "for c, a,b in zip(input_mesh1, folders1, collisions1):\n",
    "    print(a.ljust(20,' '),str(len(b)).ljust(10,' '), str(c.faces.shape[0]).ljust(10,' '), round(1.0*len(b)/c.faces.shape[0],4))\n",
    "print('\\n\\n')\n",
    "\n",
    "print('white collision counts')\n",
    "print('model'.ljust(20,' '), 'collisions'.ljust(10,' '),'samples'.ljust(10,' '), 'ratio')\n",
    "for c, a,b in zip(input_mesh2, folders2, collisions2):\n",
    "    print(a.ljust(20,' '),str(len(b)).ljust(10,' '), str(c.faces.shape[0]).ljust(10,' '), round(1.0*len(b)/c.faces.shape[0],4))"
   ]
  },
  {
   "cell_type": "markdown",
   "id": "475ed6a2",
   "metadata": {},
   "source": [
    "# Visualize with Pyrender"
   ]
  },
  {
   "cell_type": "code",
   "execution_count": 40,
   "id": "9388c641",
   "metadata": {},
   "outputs": [],
   "source": [
    "import pyrender"
   ]
  },
  {
   "cell_type": "code",
   "execution_count": 51,
   "id": "846f8462",
   "metadata": {},
   "outputs": [],
   "source": [
    "def preview(input_mesh, collisions):\n",
    "    \n",
    "    material = pyrender.MetallicRoughnessMaterial(\n",
    "    metallicFactor=0.0,\n",
    "    alphaMode='BLEND',\n",
    "    baseColorFactor=[0.3, 0.3, 0.3, 0.99])\n",
    "    recv_material = pyrender.MetallicRoughnessMaterial(\n",
    "        metallicFactor=0.0,\n",
    "        alphaMode='BLEND',\n",
    "        baseColorFactor=[0.0, 0.9, 0.0, 1.0])\n",
    "    intr_material = pyrender.MetallicRoughnessMaterial(\n",
    "        metallicFactor=0.0,\n",
    "        alphaMode='BLEND',\n",
    "        baseColorFactor=[0.9, 0.0, 0.0, 1.0])\n",
    "\n",
    "    scene = pyrender.Scene(bg_color=[0.0, 0.0, 0.0, 1.0],\n",
    "                                ambient_light=(0.3, 0.3, 0.3))\n",
    "\n",
    "    \n",
    "    recv_faces = input_mesh.faces[collisions[:, 0]]\n",
    "    intr_faces = input_mesh.faces[collisions[:, 1]]\n",
    "    \n",
    "    main_mesh = pyrender.Mesh.from_trimesh(input_mesh, material=material)\n",
    "    recv_mesh = pyrender.Mesh.from_trimesh(\n",
    "        trimesh.Trimesh(input_mesh.vertices, recv_faces),\n",
    "        material=recv_material)\n",
    "    intr_mesh = pyrender.Mesh.from_trimesh(\n",
    "        trimesh.Trimesh(input_mesh.vertices, intr_faces),\n",
    "        material=intr_material)\n",
    "\n",
    "    scene.add(main_mesh)\n",
    "    scene.add(recv_mesh)\n",
    "    scene.add(intr_mesh)\n",
    "    return main_mesh, recv_mesh, intr_mesh, scene"
   ]
  },
  {
   "cell_type": "code",
   "execution_count": 120,
   "id": "ef65326f",
   "metadata": {},
   "outputs": [
    {
     "name": "stderr",
     "output_type": "stream",
     "text": [
      "/Users/mialu/opt/anaconda3/lib/python3.9/site-packages/trimesh/util.py:132: RuntimeWarning: invalid value encountered in reciprocal\n",
      "  norm[valid] **= -1\n"
     ]
    },
    {
     "data": {
      "text/plain": [
       "Viewer=(width=640, height=480)"
      ]
     },
     "execution_count": 120,
     "metadata": {},
     "output_type": "execute_result"
    }
   ],
   "source": [
    "idx = 3\n",
    "main_mesh, recv_mesh, intr_mesh, scene = preview(input_mesh1[idx],collisions1[idx])\n",
    "pyrender.Viewer(scene, use_raymond_lighting=True, cull_faces=False)"
   ]
  },
  {
   "cell_type": "code",
   "execution_count": 57,
   "id": "8897f2e8",
   "metadata": {
    "scrolled": false
   },
   "outputs": [],
   "source": [
    "# help(pyrender.Viewer)"
   ]
  },
  {
   "cell_type": "markdown",
   "id": "40b958fd",
   "metadata": {},
   "source": [
    "# Visualize with Pyvista"
   ]
  },
  {
   "cell_type": "code",
   "execution_count": 161,
   "id": "a684b056",
   "metadata": {},
   "outputs": [],
   "source": [
    "# Define the colors we want to use\n",
    "from matplotlib.colors import ListedColormap\n",
    "import matplotlib.pyplot as plt\n",
    "import numpy as np"
   ]
  },
  {
   "cell_type": "code",
   "execution_count": 204,
   "id": "8c11d536",
   "metadata": {},
   "outputs": [],
   "source": [
    "\n",
    "blue = np.array([12 / 256, 238 / 256, 246 / 256, 1.0])\n",
    "black = np.array([11 / 256, 11 / 256, 11 / 256, 1.0])\n",
    "grey = np.array([189 / 256, 189 / 256, 189 / 256, 1.0])\n",
    "yellow = np.array([255 / 256, 247 / 256, 0 / 256, 1.0])\n",
    "red = np.array([1.0, 0.0, 0.0, 1.0])\n",
    "\n",
    "mapping = np.linspace(0, 1, 256)\n",
    "newcolors = np.empty((256, 4))\n",
    "newcolors[mapping >= 1] = red\n",
    "newcolors[mapping < 1] = blue\n",
    "newcolors[mapping < 0.5] = grey\n",
    "\n",
    "# Make the colormap from the listed colors\n",
    "my_colormap = ListedColormap(newcolors)"
   ]
  },
  {
   "cell_type": "code",
   "execution_count": 163,
   "id": "4a702f08",
   "metadata": {},
   "outputs": [
    {
     "data": {
      "text/plain": [
       "['cortexode', 'corticalflow', 'deepcsr', 'pialnn', 'vox2cortex']"
      ]
     },
     "execution_count": 163,
     "metadata": {},
     "output_type": "execute_result"
    }
   ],
   "source": [
    "folders1"
   ]
  },
  {
   "cell_type": "code",
   "execution_count": 188,
   "id": "6d1d205c",
   "metadata": {},
   "outputs": [
    {
     "data": {
      "text/plain": [
       "'topofit'"
      ]
     },
     "execution_count": 188,
     "metadata": {},
     "output_type": "execute_result"
    }
   ],
   "source": [
    "folder"
   ]
  },
  {
   "cell_type": "code",
   "execution_count": 189,
   "id": "043505d9",
   "metadata": {},
   "outputs": [],
   "source": [
    "idx = 3\n",
    "folder = folders2[idx]\n",
    "m = pv.read('backup/'+folder + '/pw.stl')\n",
    "\n",
    "input_mesh, collisions = get_collisions_mesh('backup/' + folder + '/pw')\n",
    "\n",
    "tmp = [0] * input_mesh.faces.shape[0]\n",
    "for c in collisions[:,0]:\n",
    "    tmp[c] = 0.5\n",
    "for c in collisions[:,1]:\n",
    "    tmp[c] = 1"
   ]
  },
  {
   "cell_type": "code",
   "execution_count": 192,
   "id": "4bae26e0",
   "metadata": {},
   "outputs": [
    {
     "data": {
      "text/plain": [
       "26"
      ]
     },
     "execution_count": 192,
     "metadata": {},
     "output_type": "execute_result"
    }
   ],
   "source": [
    "len(collisions)"
   ]
  },
  {
   "cell_type": "code",
   "execution_count": 190,
   "id": "55d766f1",
   "metadata": {
    "scrolled": true
   },
   "outputs": [
    {
     "data": {
      "application/vnd.jupyter.widget-view+json": {
       "model_id": "805b48146a704d488c352c9f4bf6fcf3",
       "version_major": 2,
       "version_minor": 0
      },
      "text/plain": [
       "Widget(value=\"<iframe src='http://localhost:51147/index.html?ui=P_0x7fa504e66f40_33&reconnect=auto' style='wid…"
      ]
     },
     "metadata": {},
     "output_type": "display_data"
    }
   ],
   "source": [
    "import pyvista as pv\n",
    "\n",
    "pl = pv.Plotter()\n",
    "actor = pl.add_mesh(m, color='grey')\n",
    "actor = pl.add_mesh(m, color='red', scalars = tmp, cmap = my_colormap)\n",
    "# actor = pl.add_mesh(m3, color='blue')\n",
    "pl.remove_scalar_bar()\n",
    "pl.show()"
   ]
  },
  {
   "cell_type": "markdown",
   "id": "4ac2deb0",
   "metadata": {},
   "source": [
    "## Modify color to inferno"
   ]
  },
  {
   "cell_type": "code",
   "execution_count": 201,
   "id": "05b5858e",
   "metadata": {},
   "outputs": [],
   "source": [
    "colors = mpl.colormaps['inferno']"
   ]
  },
  {
   "cell_type": "code",
   "execution_count": 198,
   "id": "767151e2",
   "metadata": {},
   "outputs": [
    {
     "data": {
      "image/png": "[encoded data removed]",
      "text/html": [
       "<div style=\"vertical-align: middle;\"><strong>inferno</strong> </div><div class=\"cmap\"><img alt=\"inferno colormap\" title=\"inferno\" style=\"border: 1px solid #555;\" src=\"data:image/png;base64,iVBORw0KGgoAAAANSUhEUgAAAgAAAABACAYAAABsv8+/AAAAFnRFWHRUaXRsZQBpbmZlcm5vIGNvbG9ybWFwTalGwAAAABx0RVh0RGVzY3JpcHRpb24AaW5mZXJubyBjb2xvcm1hcOqH97kAAAAwdEVYdEF1dGhvcgBNYXRwbG90bGliIHYzLjUuMCwgaHR0cHM6Ly9tYXRwbG90bGliLm9yZ1I8XsEAAAAydEVYdFNvZnR3YXJlAE1hdHBsb3RsaWIgdjMuNS4wLCBodHRwczovL21hdHBsb3RsaWIub3JnfJrB5gAAAj5JREFUeJzt1kty2zAQBUAAVO5/YzGLCHRhaFhytq97o5oPQMouu15v7Thba621/u+jjVf1qvso/WPp99mve33dv+rNubk3bvNjqUep5/nRyl6t6z3l+4xz7X/NS/98N+9lPuv6uZu3td/X+fVb6mW/1HP+tV/vbeX8/+79XH+8186P7v96j3PzXudn92/uuZ57u7/u1eecvzu33as/h9o/yz31+5V52+zf3mOt7895U2/fr/THrJ8fPe+35/vYnB/P7++/7T9fP6A3e+P547zN+eZcq+fG/De8nmv1+9b+5r76/NY35679Vt5/7V/zUt//AGd/1uPDunz2Tb98nuPYzI/X/F3/KP31vnM7L3V/lPmj7G3q/ij7tf9n6fe+znvp901/XPNjqeevCwAIIgAAQCABAAACCQAAEEgAAIBAAgAABBIAACCQAAAAgQQAAAgkAABAIAEAAAIJAAAQSAAAgEACAAAEEgAAIJAAAACBBAAACCQAAEAgAQAAAgkAABBIAACAQAIAAAQSAAAgkAAAAIEEAAAIJAAAQCABAAACCQAAEEgAAIBAAgAABBIAACCQAAAAgQQAAAgkAABAIAEAAAIJAAAQSAAAgEACAAAEEgAAIJAAAACBBAAACCQAAEAgAQAAAgkAABBIAACAQAIAAAQSAAAgkAAAAIEEAAAIJAAAQCABAAACCQAAEEgAAIBAAgAABBIAACCQAAAAgQQAAAgkAABAIAEAAAIJAAAQSAAAgEACAAAEEgAAINBfNHptHZCXMAEAAAAASUVORK5CYII=\"></div><div style=\"vertical-align: middle; max-width: 514px; display: flex; justify-content: space-between;\"><div style=\"float: left;\"><div title=\"#000004ff\" style=\"display: inline-block; width: 1em; height: 1em; margin: 0; vertical-align: middle; border: 1px solid #555; background-color: #000004ff;\"></div> under</div><div style=\"margin: 0 auto; display: inline-block;\">bad <div title=\"#00000000\" style=\"display: inline-block; width: 1em; height: 1em; margin: 0; vertical-align: middle; border: 1px solid #555; background-color: #00000000;\"></div></div><div style=\"float: right;\">over <div title=\"#fcffa4ff\" style=\"display: inline-block; width: 1em; height: 1em; margin: 0; vertical-align: middle; border: 1px solid #555; background-color: #fcffa4ff;\"></div></div>"
      ],
      "text/plain": [
       "<matplotlib.colors.ListedColormap at 0x7fa50391f760>"
      ]
     },
     "execution_count": 198,
     "metadata": {},
     "output_type": "execute_result"
    }
   ],
   "source": [
    "colors"
   ]
  },
  {
   "cell_type": "code",
   "execution_count": 227,
   "id": "d4b5c726",
   "metadata": {},
   "outputs": [],
   "source": [
    "light = [255/256,255/256,0] + [1]\n",
    "dark = [152/256,0,255/256] + [1]\n",
    "grey = np.array([220 / 256, 220 / 256, 220 / 256, 1.0])\n",
    "mapping = np.linspace(0, 1, 256)\n",
    "newcolors = np.empty((256, 4))\n",
    "newcolors[mapping >= 1] = dark\n",
    "newcolors[mapping < 1] = light\n",
    "newcolors[mapping < 0.5] = grey\n",
    "\n",
    "# Make the colormap from the listed colors\n",
    "my_colormap = ListedColormap(newcolors)"
   ]
  },
  {
   "cell_type": "code",
   "execution_count": 228,
   "id": "c006386a",
   "metadata": {},
   "outputs": [],
   "source": [
    "idx = 4\n",
    "folder = folders1[idx]\n",
    "pmodel = 'pp'\n",
    "m = pv.read('backup/'+folder + '/' + pmodel + '.stl')\n",
    "\n",
    "input_mesh, collisions = get_collisions_mesh('backup/' + folder + '/' + pmodel)\n",
    "\n",
    "tmp = [0] * input_mesh.faces.shape[0]\n",
    "for c in collisions[:,0]:\n",
    "    tmp[c] = 0.5\n",
    "for c in collisions[:,1]:\n",
    "    tmp[c] = 1"
   ]
  },
  {
   "cell_type": "code",
   "execution_count": 229,
   "id": "89c512c5",
   "metadata": {},
   "outputs": [
    {
     "data": {
      "application/vnd.jupyter.widget-view+json": {
       "model_id": "9490f102cfa04d60a555a70f743c78c3",
       "version_major": 2,
       "version_minor": 0
      },
      "text/plain": [
       "Widget(value=\"<iframe src='http://localhost:51147/index.html?ui=P_0x7fa504e66a30_41&reconnect=auto' style='wid…"
      ]
     },
     "metadata": {},
     "output_type": "display_data"
    }
   ],
   "source": [
    "import pyvista as pv\n",
    "\n",
    "pl = pv.Plotter()\n",
    "actor = pl.add_mesh(m, scalars = tmp, cmap = my_colormap)\n",
    "# actor = pl.add_mesh(m3, color='blue')\n",
    "pl.remove_scalar_bar()\n",
    "pl.show()"
   ]
  },
  {
   "cell_type": "markdown",
   "id": "bd650324",
   "metadata": {},
   "source": [
    "# Save as PNG"
   ]
  },
  {
   "cell_type": "code",
   "execution_count": null,
   "id": "f4ef6fd1",
   "metadata": {},
   "outputs": [],
   "source": [
    "idx = 4\n",
    "folder = folders1[idx]\n",
    "pmodel = 'pp'\n",
    "m = pv.read('backup/'+folder + '/' + pmodel + '.stl')\n",
    "\n",
    "input_mesh, collisions = get_collisions_mesh('backup/' + folder + '/' + pmodel)\n",
    "\n",
    "tmp = [0] * input_mesh.faces.shape[0]\n",
    "for c in collisions[:,0]:\n",
    "    tmp[c] = 0.5\n",
    "for c in collisions[:,1]:\n",
    "    tmp[c] = 1"
   ]
  },
  {
   "cell_type": "code",
   "execution_count": 250,
   "id": "efd5f38c",
   "metadata": {},
   "outputs": [],
   "source": [
    "cmap_candidates = [mpl.colormaps['inferno'].reversed(), my_colormap, mpl.colormaps['inferno'] ]\n",
    "\n",
    "def get_collision_data(input_mesh, collisions):\n",
    "    tmp = [0] * input_mesh.faces.shape[0]\n",
    "    if collisions.shape[0] >= 1:\n",
    "        for c in collisions[:,0]:\n",
    "            tmp[c] = 0.5\n",
    "        for c in collisions[:,1]:\n",
    "            tmp[c] = 1\n",
    "    return tmp\n",
    "\n",
    "def visualize_brain(pmodel = 'pp', folders = folders1, scale = 3, cmap_idx = 1):\n",
    "    \n",
    "    cmap = cmap_candidates[cmap_idx]\n",
    "    viewup1 = [1,0,0]\n",
    "    viewup2 = [0,0,1]\n",
    "    \n",
    "    for idx in range(len(folders)):\n",
    "        folder = folders[idx]\n",
    "        m = pv.read('backup/'+folder + '/' + pmodel + '.stl')\n",
    "        input_mesh, collisions = get_collisions_mesh('backup/' + folder + '/' + pmodel)\n",
    "        \n",
    "        scalars = get_collision_data(input_mesh, collisions)\n",
    "\n",
    "        pl = pv.Plotter()\n",
    "        actor = pl.add_mesh(m,scalars = scalars, cmap=cmap)\n",
    "\n",
    "        pl.set_background('white', all_renderers=False)\n",
    "        pl.remove_scalar_bar()\n",
    "\n",
    "        pl.view_yz()\n",
    "        pl.set_viewup(viewup1)\n",
    "        if idx == 3 and pmodel == 'pp':\n",
    "            pl.set_viewup(viewup2)\n",
    "\n",
    "        pl.remove_legend()\n",
    "        pl.remove_floors()\n",
    "        pl.remove_bounding_box()\n",
    "        pl.remove_bounds_axes()\n",
    "        pl.show()\n",
    "        pl.screenshot(pmodel + folders[idx] + '.png', transparent_background=True, return_img=True, scale=scale)"
   ]
  },
  {
   "cell_type": "markdown",
   "id": "71e6b470",
   "metadata": {},
   "source": [
    "## Plot all models Pial"
   ]
  },
  {
   "cell_type": "code",
   "execution_count": 241,
   "id": "12f585ad",
   "metadata": {
    "scrolled": true
   },
   "outputs": [
    {
     "name": "stderr",
     "output_type": "stream",
     "text": [
      "\u001b[0m\u001b[33m2023-04-17 15:23:03.954 (11129.443s) [         12A47FC]        vtkRenderer.cxx:1172  WARN| vtkOpenGLRenderer (0x7fa5ae320000): Resetting view-up since view plane normal is parallel\u001b[0m\n"
     ]
    },
    {
     "data": {
      "application/vnd.jupyter.widget-view+json": {
       "model_id": "084216dd55c245b0b34725b4bfe8b905",
       "version_major": 2,
       "version_minor": 0
      },
      "text/plain": [
       "Widget(value=\"<iframe src='http://localhost:51147/index.html?ui=P_0x7fa5032221c0_51&reconnect=auto' style='wid…"
      ]
     },
     "metadata": {},
     "output_type": "display_data"
    },
    {
     "name": "stderr",
     "output_type": "stream",
     "text": [
      "\u001b[0m\u001b[33m2023-04-17 15:23:06.222 (11131.711s) [         12A47FC]        vtkRenderer.cxx:1172  WARN| vtkOpenGLRenderer (0x7fa4fd3d6a00): Resetting view-up since view plane normal is parallel\u001b[0m\n"
     ]
    },
    {
     "data": {
      "application/vnd.jupyter.widget-view+json": {
       "model_id": "e7ab42a1050e449fa0fdc3ad2d8c5e44",
       "version_major": 2,
       "version_minor": 0
      },
      "text/plain": [
       "Widget(value=\"<iframe src='http://localhost:51147/index.html?ui=P_0x7fa503211dc0_52&reconnect=auto' style='wid…"
      ]
     },
     "metadata": {},
     "output_type": "display_data"
    },
    {
     "name": "stderr",
     "output_type": "stream",
     "text": [
      "\u001b[0m\u001b[33m2023-04-17 15:23:07.581 (11133.070s) [         12A47FC]        vtkRenderer.cxx:1172  WARN| vtkOpenGLRenderer (0x7fa5be1c2200): Resetting view-up since view plane normal is parallel\u001b[0m\n"
     ]
    },
    {
     "data": {
      "application/vnd.jupyter.widget-view+json": {
       "model_id": "738c374f841940d0810af85d5c167dc0",
       "version_major": 2,
       "version_minor": 0
      },
      "text/plain": [
       "Widget(value=\"<iframe src='http://localhost:51147/index.html?ui=P_0x7fa50320ca00_53&reconnect=auto' style='wid…"
      ]
     },
     "metadata": {},
     "output_type": "display_data"
    },
    {
     "name": "stderr",
     "output_type": "stream",
     "text": [
      "\u001b[0m\u001b[33m2023-04-17 15:23:08.638 (11134.127s) [         12A47FC]        vtkRenderer.cxx:1172  WARN| vtkOpenGLRenderer (0x7fa5ae494000): Resetting view-up since view plane normal is parallel\u001b[0m\n"
     ]
    },
    {
     "data": {
      "application/vnd.jupyter.widget-view+json": {
       "model_id": "ee3fc908545944369683bd4e18366088",
       "version_major": 2,
       "version_minor": 0
      },
      "text/plain": [
       "Widget(value=\"<iframe src='http://localhost:51147/index.html?ui=P_0x7fa503211880_54&reconnect=auto' style='wid…"
      ]
     },
     "metadata": {},
     "output_type": "display_data"
    },
    {
     "name": "stderr",
     "output_type": "stream",
     "text": [
      "\u001b[0m\u001b[33m2023-04-17 15:23:09.390 (11134.878s) [         12A47FC]        vtkRenderer.cxx:1172  WARN| vtkOpenGLRenderer (0x7fa5ae479c00): Resetting view-up since view plane normal is parallel\u001b[0m\n"
     ]
    },
    {
     "data": {
      "application/vnd.jupyter.widget-view+json": {
       "model_id": "385cdafae6a84a68a1837bcd69ba8fb4",
       "version_major": 2,
       "version_minor": 0
      },
      "text/plain": [
       "Widget(value=\"<iframe src='http://localhost:51147/index.html?ui=P_0x7fa503222040_55&reconnect=auto' style='wid…"
      ]
     },
     "metadata": {},
     "output_type": "display_data"
    }
   ],
   "source": [
    "visualize_brain()"
   ]
  },
  {
   "cell_type": "markdown",
   "id": "88895169",
   "metadata": {},
   "source": [
    "## Plot white except deepcsr"
   ]
  },
  {
   "cell_type": "code",
   "execution_count": 308,
   "id": "c764ccde",
   "metadata": {},
   "outputs": [],
   "source": [
    "folders2 = ['cortexode',\n",
    " 'corticalflow',\n",
    " 'topofit',\n",
    " 'vox2cortex']"
   ]
  },
  {
   "cell_type": "code",
   "execution_count": 309,
   "id": "fa9edc69",
   "metadata": {
    "scrolled": true
   },
   "outputs": [
    {
     "name": "stderr",
     "output_type": "stream",
     "text": [
      "\u001b[0m\u001b[33m2023-04-17 16:32:46.674 (15312.084s) [         12A47FC]        vtkRenderer.cxx:1172  WARN| vtkOpenGLRenderer (0x7fa5bd6a6c00): Resetting view-up since view plane normal is parallel\u001b[0m\n"
     ]
    },
    {
     "data": {
      "application/vnd.jupyter.widget-view+json": {
       "model_id": "ea6bdb7207bd44268068d03a2609a497",
       "version_major": 2,
       "version_minor": 0
      },
      "text/plain": [
       "Widget(value=\"<iframe src='http://localhost:51147/index.html?ui=P_0x7fa4f010caf0_79&reconnect=auto' style='wid…"
      ]
     },
     "metadata": {},
     "output_type": "display_data"
    },
    {
     "name": "stderr",
     "output_type": "stream",
     "text": [
      "\u001b[0m\u001b[33m2023-04-17 16:32:49.172 (15314.582s) [         12A47FC]        vtkRenderer.cxx:1172  WARN| vtkOpenGLRenderer (0x7fa5bd649000): Resetting view-up since view plane normal is parallel\u001b[0m\n"
     ]
    },
    {
     "data": {
      "application/vnd.jupyter.widget-view+json": {
       "model_id": "e63eb3abd72c4915a5f2bb636b6fa9c9",
       "version_major": 2,
       "version_minor": 0
      },
      "text/plain": [
       "Widget(value=\"<iframe src='http://localhost:51147/index.html?ui=P_0x7fa5274a09d0_80&reconnect=auto' style='wid…"
      ]
     },
     "metadata": {},
     "output_type": "display_data"
    },
    {
     "name": "stderr",
     "output_type": "stream",
     "text": [
      "\u001b[0m\u001b[33m2023-04-17 16:32:50.622 (15316.032s) [         12A47FC]        vtkRenderer.cxx:1172  WARN| vtkOpenGLRenderer (0x7fa57d8d2a00): Resetting view-up since view plane normal is parallel\u001b[0m\n"
     ]
    },
    {
     "data": {
      "application/vnd.jupyter.widget-view+json": {
       "model_id": "8bf587bc6ab74918957d88e81245068d",
       "version_major": 2,
       "version_minor": 0
      },
      "text/plain": [
       "Widget(value=\"<iframe src='http://localhost:51147/index.html?ui=P_0x7fa53691abe0_81&reconnect=auto' style='wid…"
      ]
     },
     "metadata": {},
     "output_type": "display_data"
    },
    {
     "name": "stderr",
     "output_type": "stream",
     "text": [
      "\u001b[0m\u001b[33m2023-04-17 16:32:51.463 (15316.873s) [         12A47FC]        vtkRenderer.cxx:1172  WARN| vtkOpenGLRenderer (0x7fa56fed5a00): Resetting view-up since view plane normal is parallel\u001b[0m\n"
     ]
    },
    {
     "data": {
      "application/vnd.jupyter.widget-view+json": {
       "model_id": "4b61cb9ad4284e038149cf50f163c6da",
       "version_major": 2,
       "version_minor": 0
      },
      "text/plain": [
       "Widget(value=\"<iframe src='http://localhost:51147/index.html?ui=P_0x7fa503306370_82&reconnect=auto' style='wid…"
      ]
     },
     "metadata": {},
     "output_type": "display_data"
    }
   ],
   "source": [
    "visualize_brain(pmodel = 'pw', folders = folders2)"
   ]
  },
  {
   "cell_type": "markdown",
   "id": "fe286831",
   "metadata": {},
   "source": [
    "## plot deepcsr white"
   ]
  },
  {
   "cell_type": "code",
   "execution_count": null,
   "id": "c801d93a",
   "metadata": {},
   "outputs": [],
   "source": [
    "folders = []\n",
    "pmodel = 'pw'\n",
    "viewup1 = [1,0,0]\n",
    "scale = 3\n",
    "\n",
    "m = pv.read('backup/'+folder + '/' + pmodel + '.stl')\n",
    "input_mesh, collisions = get_collisions_mesh('backup/' + folder + '/' + pmodel)\n",
    "\n",
    "\n",
    "pl = pv.Plotter()\n",
    "actor = pl.add_mesh(m, color=grey)\n",
    "\n",
    "pl.set_background('white', all_renderers=False)\n",
    "\n",
    "pl.view_yz()\n",
    "pl.set_viewup(viewup1)\n",
    "\n",
    "pl.remove_legend()\n",
    "pl.remove_floors()\n",
    "pl.remove_bounding_box()\n",
    "pl.remove_bounds_axes()\n",
    "pl.show()\n",
    "# pl.screenshot(pmodel + folder + '.png', transparent_background=True, return_img=True, scale=scale)"
   ]
  },
  {
   "cell_type": "code",
   "execution_count": 260,
   "id": "6690b01c",
   "metadata": {},
   "outputs": [
    {
     "name": "stderr",
     "output_type": "stream",
     "text": [
      "\u001b[0m\u001b[33m2023-04-17 15:40:22.204 (12167.673s) [         12A47FC]        vtkRenderer.cxx:1172  WARN| vtkOpenGLRenderer (0x7fa5bd581c00): Resetting view-up since view plane normal is parallel\u001b[0m\n"
     ]
    },
    {
     "data": {
      "application/vnd.jupyter.widget-view+json": {
       "model_id": "12c05ddd22de494eaf625e547f21e7c9",
       "version_major": 2,
       "version_minor": 0
      },
      "text/plain": [
       "Widget(value=\"<iframe src='http://localhost:51147/index.html?ui=P_0x7fa503211220_74&reconnect=auto' style='wid…"
      ]
     },
     "metadata": {},
     "output_type": "display_data"
    },
    {
     "data": {
      "text/plain": [
       "pyvista_ndarray([[[255, 255, 255,   0],\n",
       "                  [255, 255, 255,   0],\n",
       "                  [255, 255, 255,   0],\n",
       "                  ...,\n",
       "                  [255, 255, 255,   0],\n",
       "                  [255, 255, 255,   0],\n",
       "                  [255, 255, 255,   0]],\n",
       "\n",
       "                 [[255, 255, 255,   0],\n",
       "                  [255, 255, 255,   0],\n",
       "                  [255, 255, 255,   0],\n",
       "                  ...,\n",
       "                  [255, 255, 255,   0],\n",
       "                  [255, 255, 255,   0],\n",
       "                  [255, 255, 255,   0]],\n",
       "\n",
       "                 [[255, 255, 255,   0],\n",
       "                  [255, 255, 255,   0],\n",
       "                  [255, 255, 255,   0],\n",
       "                  ...,\n",
       "                  [255, 255, 255,   0],\n",
       "                  [255, 255, 255,   0],\n",
       "                  [255, 255, 255,   0]],\n",
       "\n",
       "                 ...,\n",
       "\n",
       "                 [[255, 255, 255,   0],\n",
       "                  [255, 255, 255,   0],\n",
       "                  [255, 255, 255,   0],\n",
       "                  ...,\n",
       "                  [255, 255, 255,   0],\n",
       "                  [255, 255, 255,   0],\n",
       "                  [255, 255, 255,   0]],\n",
       "\n",
       "                 [[255, 255, 255,   0],\n",
       "                  [255, 255, 255,   0],\n",
       "                  [255, 255, 255,   0],\n",
       "                  ...,\n",
       "                  [255, 255, 255,   0],\n",
       "                  [255, 255, 255,   0],\n",
       "                  [255, 255, 255,   0]],\n",
       "\n",
       "                 [[255, 255, 255,   0],\n",
       "                  [255, 255, 255,   0],\n",
       "                  [255, 255, 255,   0],\n",
       "                  ...,\n",
       "                  [255, 255, 255,   0],\n",
       "                  [255, 255, 255,   0],\n",
       "                  [255, 255, 255,   0]]], dtype=uint8)"
      ]
     },
     "execution_count": 260,
     "metadata": {},
     "output_type": "execute_result"
    }
   ],
   "source": [
    "folder = 'deepcsr'\n",
    "pmodel = 'pw'\n",
    "viewup1 = [1,0,0]\n",
    "scale = 3\n",
    "\n",
    "m = pv.read('backup/'+folder + '/' + pmodel + '.stl')\n",
    "input_mesh, collisions = get_collisions_mesh('backup/' + folder + '/' + pmodel)\n",
    "\n",
    "\n",
    "pl = pv.Plotter()\n",
    "actor = pl.add_mesh(m, color=grey)\n",
    "\n",
    "pl.set_background('white', all_renderers=False)\n",
    "\n",
    "pl.view_yz()\n",
    "pl.set_viewup(viewup1)\n",
    "\n",
    "pl.remove_legend()\n",
    "pl.remove_floors()\n",
    "pl.remove_bounding_box()\n",
    "pl.remove_bounds_axes()\n",
    "pl.show()\n",
    "pl.screenshot(pmodel + folder + '.png', transparent_background=True, return_img=True, scale=scale)"
   ]
  },
  {
   "cell_type": "markdown",
   "id": "947fb8c4",
   "metadata": {},
   "source": [
    "# Save png as SVG "
   ]
  },
  {
   "cell_type": "markdown",
   "id": "5bca2411",
   "metadata": {},
   "source": [
    "## convert"
   ]
  },
  {
   "cell_type": "markdown",
   "id": "2fe5d35f",
   "metadata": {},
   "source": [
    "    Using Powerpoint"
   ]
  },
  {
   "cell_type": "markdown",
   "id": "02f42586",
   "metadata": {},
   "source": [
    "## modify svg to have different identifiers"
   ]
  },
  {
   "cell_type": "code",
   "execution_count": 264,
   "id": "96e839c5",
   "metadata": {},
   "outputs": [
    {
     "data": {
      "text/plain": [
       "['1-cf.svg', '1-pnn.svg', '1-c.svg', '1-d.svg', '1-v2c.svg']"
      ]
     },
     "execution_count": 264,
     "metadata": {},
     "output_type": "execute_result"
    }
   ],
   "source": [
    "os.listdir('backup/pial_collision/')"
   ]
  },
  {
   "cell_type": "code",
   "execution_count": 265,
   "id": "525664d8",
   "metadata": {},
   "outputs": [
    {
     "data": {
      "text/plain": [
       "['2-cf.svg', '2-v2c.svg', '2-c.svg', '2-t.svg', '2-d.svg']"
      ]
     },
     "execution_count": 265,
     "metadata": {},
     "output_type": "execute_result"
    }
   ],
   "source": [
    "os.listdir('backup/white_collision/')"
   ]
  },
  {
   "cell_type": "code",
   "execution_count": 269,
   "id": "cc949ef3",
   "metadata": {},
   "outputs": [],
   "source": [
    "import random\n",
    "\n",
    "#read input file\n",
    "def modify_svg(svgfile, savetofile):\n",
    "    fin = open(svgfile, \"rt\")\n",
    "\n",
    "    #read file contents to string\n",
    "    data = fin.read()\n",
    "    \n",
    "    #replace all occurrences of the required string\n",
    "    \n",
    "    # generate random str\n",
    "    x = random.random()\n",
    "    x = int(x*100000)\n",
    "    data = data.replace('id=\"img', 'id=\"img'+str(x))\n",
    "    data = data.replace('#img', '#img'+str(x))\n",
    "    data = data.replace('id=\"clip', 'id=\"clip'+str(x))\n",
    "    data = data.replace('#clip', '#clip'+str(x))    \n",
    "    \n",
    "    #close the input file\n",
    "    fin.close()\n",
    "\n",
    "    #open the input file in write mode\n",
    "    fin = open('modified_' + savetofile, \"wt\")\n",
    "\n",
    "    #overrite the input file with the resulting data\n",
    "    fin.write(data)\n",
    "\n",
    "    #close the file\n",
    "    fin.close()"
   ]
  },
  {
   "cell_type": "code",
   "execution_count": 270,
   "id": "9d4a15f9",
   "metadata": {},
   "outputs": [],
   "source": [
    "prefix = 'backup/pial_collision/'\n",
    "\n",
    "for f in os.listdir(prefix):\n",
    "    modify_svg(prefix + f, f)"
   ]
  },
  {
   "cell_type": "code",
   "execution_count": 271,
   "id": "c6ce7a51",
   "metadata": {},
   "outputs": [],
   "source": [
    "prefix = 'backup/white_collision/'\n",
    "\n",
    "for f in os.listdir(prefix):\n",
    "    modify_svg(prefix + f, f)"
   ]
  },
  {
   "cell_type": "code",
   "execution_count": 311,
   "id": "88890b08",
   "metadata": {},
   "outputs": [],
   "source": [
    "modify_svg('2-code.svg','2-code.svg')"
   ]
  },
  {
   "cell_type": "markdown",
   "id": "e7aaae9e",
   "metadata": {},
   "source": [
    "# Put in one figure"
   ]
  },
  {
   "cell_type": "markdown",
   "id": "44fc34e8",
   "metadata": {},
   "source": [
    "## organize files"
   ]
  },
  {
   "cell_type": "code",
   "execution_count": 299,
   "id": "23e96a2e",
   "metadata": {},
   "outputs": [
    {
     "data": {
      "text/plain": [
       "['modified_1-c.svg',\n",
       " 'modified_1-cf.svg',\n",
       " 'modified_1-d.svg',\n",
       " 'modified_1-pnn.svg',\n",
       " 'modified_1-v2c.svg']"
      ]
     },
     "execution_count": 299,
     "metadata": {},
     "output_type": "execute_result"
    }
   ],
   "source": [
    "prefix = './data/modified_svg_' + 'pial'\n",
    "tmp = os.listdir(prefix)\n",
    "tmp.sort()\n",
    "tmp"
   ]
  },
  {
   "cell_type": "code",
   "execution_count": 300,
   "id": "8db9f275",
   "metadata": {},
   "outputs": [],
   "source": [
    "files = tmp"
   ]
  },
  {
   "cell_type": "code",
   "execution_count": 301,
   "id": "5ce30430",
   "metadata": {},
   "outputs": [
    {
     "data": {
      "text/plain": [
       "['modified_2-c.svg',\n",
       " 'modified_2-cf.svg',\n",
       " 'modified_2-d.svg',\n",
       " 'modified_2-t.svg',\n",
       " 'modified_2-v2c.svg']"
      ]
     },
     "execution_count": 301,
     "metadata": {},
     "output_type": "execute_result"
    }
   ],
   "source": [
    "prefix = './data/modified_svg_' + 'white'\n",
    "tmp = os.listdir(prefix)\n",
    "tmp.sort()\n",
    "tmp"
   ]
  },
  {
   "cell_type": "code",
   "execution_count": 302,
   "id": "8a7f1272",
   "metadata": {},
   "outputs": [],
   "source": [
    "files2 = tmp"
   ]
  },
  {
   "cell_type": "code",
   "execution_count": 303,
   "id": "d7015019",
   "metadata": {},
   "outputs": [
    {
     "data": {
      "text/plain": [
       "['modified_1-c.svg',\n",
       " 'modified_1-cf.svg',\n",
       " 'modified_1-d.svg',\n",
       " 'modified_1-pnn.svg',\n",
       " 'modified_1-v2c.svg']"
      ]
     },
     "execution_count": 303,
     "metadata": {},
     "output_type": "execute_result"
    }
   ],
   "source": [
    "files"
   ]
  },
  {
   "cell_type": "code",
   "execution_count": 313,
   "id": "7c794135",
   "metadata": {},
   "outputs": [
    {
     "data": {
      "text/plain": [
       "['modified_2-c.svg',\n",
       " 'modified_2-cf.svg',\n",
       " 'modified_2-d.svg',\n",
       " 'modified_2-t.svg',\n",
       " 'modified_2-v2c.svg']"
      ]
     },
     "execution_count": 313,
     "metadata": {},
     "output_type": "execute_result"
    }
   ],
   "source": [
    "files2"
   ]
  },
  {
   "cell_type": "markdown",
   "id": "b13babd7",
   "metadata": {},
   "source": [
    "## plot"
   ]
  },
  {
   "cell_type": "code",
   "execution_count": 314,
   "id": "5811aeca",
   "metadata": {},
   "outputs": [
    {
     "data": {
      "text/plain": [
       "'modified_1-pnn.svg'"
      ]
     },
     "execution_count": 314,
     "metadata": {},
     "output_type": "execute_result"
    }
   ],
   "source": [
    "files[3]"
   ]
  },
  {
   "cell_type": "code",
   "execution_count": 356,
   "id": "39a32705",
   "metadata": {},
   "outputs": [],
   "source": [
    "import svgutils.transform as sg\n",
    "import sys \n",
    "\n",
    "#create new SVG figure\n",
    "figure = sg.SVGFigure(\"20cm\", \"6.5cm\")\n",
    "\n",
    "\n",
    "\n",
    "start = 150\n",
    "x0 = 100 + start\n",
    "xend = 1000 + start\n",
    "xpos = list(np.linspace(x0,xend,6))\n",
    "\n",
    "plots = []\n",
    "txts = []\n",
    "\n",
    "modelnames = ['CortexODE','CorticalFlow','DeepCSR','PialNN','Vox2Cortex']\n",
    "scale = .1\n",
    "scale2 = .2294\n",
    "\n",
    "prefix = './data/modified_svg_' + 'pial/'\n",
    "for i in range(5):\n",
    "    fig = sg.fromfile(prefix + files[i])\n",
    "    plot = fig.getroot()\n",
    "    plot.rotate(90)\n",
    "    plot.moveto(xpos[i], 0, scale, scale)\n",
    "    plots.append(plot)\n",
    "\n",
    "\n",
    "prefix = './data/modified_svg_' + 'white/'\n",
    "for i in range(5):\n",
    "    fig = sg.fromfile(prefix + files2[i])\n",
    "    plot = fig.getroot()\n",
    "    plot.rotate(90)\n",
    "    if i < 1:\n",
    "        plot.moveto(xpos[i], 150, scale2, scale2)\n",
    "    else:\n",
    "        plot.moveto(xpos[i], 150, scale, scale)\n",
    "    plots.append(plot)\n",
    "\n",
    "\n",
    "sgh = 200\n",
    "delta = -130\n",
    "\n",
    "xpos = list(np.linspace(x0,xend+20,6))\n",
    "\n",
    "txts = []\n",
    "for i in range(5):\n",
    "    if i!=3:\n",
    "        txts.append(sg.TextElement(xpos[i] + delta,sgh, modelnames[i], size=12, weight=\"bold\"))\n",
    "        \n",
    "txts.append(sg.TextElement(xpos[3] + delta,sgh-10, modelnames[3]+'*', size=12, weight=\"bold\"))\n",
    "txts.append(sg.TextElement(xpos[3] + delta,sgh+10, 'Topofit*', size=12, weight=\"bold\"))\n",
    "\n",
    "txts.append(sg.TextElement(10,120, 'Pial', size=12, weight=\"bold\"))\n",
    "txts.append(sg.TextElement(10,300, 'White', size=12, weight=\"bold\"))\n",
    "\n",
    "# legend\n",
    "\n",
    "# scale = .4\n",
    "# x = 560\n",
    "# y = 440\n",
    "# fig = sg.fromfile('legend.svg')\n",
    "# plot = fig.getroot()\n",
    "# plot.moveto(x, y,scale,scale)\n",
    "# plots.append(plot)\n",
    "# txts.append(sg.TextElement(x+140 , y - 10 , 'Vertex Distance / Mesh Diag (%)', size=12))\n",
    "\n",
    "# append plots and labels to figure\n",
    "figure.append(txts)\n",
    "figure.append(plots)\n",
    "\n",
    "\n",
    "# save generated SVG files\n",
    "figure.save(\"fig_pial_collision.svg\")"
   ]
  },
  {
   "cell_type": "code",
   "execution_count": null,
   "id": "165d9e4a",
   "metadata": {},
   "outputs": [],
   "source": []
  },
  {
   "cell_type": "markdown",
   "id": "dc5e619e",
   "metadata": {},
   "source": [
    "# plot Vox2cortex, PialNN pial models"
   ]
  },
  {
   "cell_type": "code",
   "execution_count": 386,
   "id": "d5687d79",
   "metadata": {
    "scrolled": false
   },
   "outputs": [
    {
     "name": "stderr",
     "output_type": "stream",
     "text": [
      "\u001b[0m\u001b[33m2023-04-17 17:28:46.786 (18672.133s) [         12A47FC]        vtkRenderer.cxx:1172  WARN| vtkOpenGLRenderer (0x7fa4fd3f3000): Resetting view-up since view plane normal is parallel\u001b[0m\n"
     ]
    },
    {
     "data": {
      "application/vnd.jupyter.widget-view+json": {
       "model_id": "e6945b0352134dd9a980c565e0754967",
       "version_major": 2,
       "version_minor": 0
      },
      "text/plain": [
       "Widget(value=\"<iframe src='http://localhost:51147/index.html?ui=P_0x7fa527491df0_83&reconnect=auto' style='wid…"
      ]
     },
     "metadata": {},
     "output_type": "display_data"
    },
    {
     "name": "stderr",
     "output_type": "stream",
     "text": [
      "\u001b[0m\u001b[33m2023-04-17 17:28:49.003 (18674.350s) [         12A47FC]        vtkRenderer.cxx:1172  WARN| vtkOpenGLRenderer (0x7fa4cead0400): Resetting view-up since view plane normal is parallel\u001b[0m\n"
     ]
    },
    {
     "data": {
      "application/vnd.jupyter.widget-view+json": {
       "model_id": "e33761e682494fad826102dc369fe128",
       "version_major": 2,
       "version_minor": 0
      },
      "text/plain": [
       "Widget(value=\"<iframe src='http://localhost:51147/index.html?ui=P_0x7fa502c4ccd0_84&reconnect=auto' style='wid…"
      ]
     },
     "metadata": {},
     "output_type": "display_data"
    }
   ],
   "source": [
    "visualize_brain(pmodel = 'pp', folders = ['pialnn','vox2cortex'], scale = 6, cmap_idx = 1)"
   ]
  },
  {
   "cell_type": "code",
   "execution_count": null,
   "id": "f5708fc2",
   "metadata": {},
   "outputs": [],
   "source": [
    "def visualize_brain(pmodel = 'pp', folders = folders1, scale = 3, cmap_idx = 1):\n",
    "    \n",
    "    cmap = cmap_candidates[cmap_idx]\n",
    "    viewup1 = [1,0,0]\n",
    "    viewup2 = [0,0,1]\n",
    "    \n",
    "    for idx in range(len(folders)):\n",
    "        folder = folders[idx]\n",
    "        m = pv.read('backup/'+folder + '/' + pmodel + '.stl')\n",
    "        input_mesh, collisions = get_collisions_mesh('backup/' + folder + '/' + pmodel)\n",
    "        \n",
    "        scalars = get_collision_data(input_mesh, collisions)\n",
    "\n",
    "        pl = pv.Plotter()\n",
    "        actor = pl.add_mesh(m,scalars = scalars, cmap=cmap)\n",
    "\n",
    "        pl.set_background('white', all_renderers=False)\n",
    "        pl.remove_scalar_bar()\n",
    "\n",
    "        pl.view_yz()\n",
    "        pl.set_viewup(viewup1)\n",
    "        if idx == 3 and pmodel == 'pp':\n",
    "            pl.set_viewup(viewup2)\n",
    "\n",
    "        pl.remove_legend()\n",
    "        pl.remove_floors()\n",
    "        pl.remove_bounding_box()\n",
    "        pl.remove_bounds_axes()\n",
    "        pl.show()\n",
    "        pl.screenshot(pmodel + folders[idx] + '.png', transparent_background=True, return_img=True, scale=scale)"
   ]
  },
  {
   "cell_type": "code",
   "execution_count": 393,
   "id": "85be45fa",
   "metadata": {},
   "outputs": [],
   "source": [
    "# folder = 'pialnn'\n",
    "# pmodel = 'pp'\n",
    "# m = pv.read('backup/'+folder + '/' + pmodel + '.stl')\n",
    "# input_mesh, collisions = get_collisions_mesh('backup/' + folder + '/' + pmodel)\n",
    "# scalars = get_collision_data(input_mesh, collisions)\n",
    "# # scalars = get_collision_data(input_mesh, collisions)\n",
    "# slices = mesh.slice_orthogonal(scalars = scalars)\n",
    "\n",
    "# slices.plot(cmap=my_colormap)"
   ]
  },
  {
   "cell_type": "code",
   "execution_count": null,
   "id": "6c147e15",
   "metadata": {},
   "outputs": [],
   "source": []
  }
 ],
 "metadata": {
  "kernelspec": {
   "display_name": "Python 3 (ipykernel)",
   "language": "python",
   "name": "python3"
  },
  "language_info": {
   "codemirror_mode": {
    "name": "ipython",
    "version": 3
   },
   "file_extension": ".py",
   "mimetype": "text/x-python",
   "name": "python",
   "nbconvert_exporter": "python",
   "pygments_lexer": "ipython3",
   "version": "3.9.7"
  },
  "toc": {
   "base_numbering": 1,
   "nav_menu": {},
   "number_sections": true,
   "sideBar": true,
   "skip_h1_title": false,
   "title_cell": "Table of Contents",
   "title_sidebar": "Contents",
   "toc_cell": false,
   "toc_position": {
    "height": "calc(100% - 180px)",
    "left": "10px",
    "top": "150px",
    "width": "320px"
   },
   "toc_section_display": true,
   "toc_window_display": false
  },
  "varInspector": {
   "cols": {
    "lenName": 16,
    "lenType": 16,
    "lenVar": 40
   },
   "kernels_config": {
    "python": {
     "delete_cmd_postfix": "",
     "delete_cmd_prefix": "del ",
     "library": "var_list.py",
     "varRefreshCmd": "print(var_dic_list())"
    },
    "r": {
     "delete_cmd_postfix": ") ",
     "delete_cmd_prefix": "rm(",
     "library": "var_list.r",
     "varRefreshCmd": "cat(var_dic_list()) "
    }
   },
   "types_to_exclude": [
    "module",
    "function",
    "builtin_function_or_method",
    "instance",
    "_Feature"
   ],
   "window_display": false
  }
 },
 "nbformat": 4,
 "nbformat_minor": 5
}
